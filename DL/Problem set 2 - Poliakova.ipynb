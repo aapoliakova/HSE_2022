{
 "cells": [
  {
   "cell_type": "markdown",
   "source": [
    "# Imports"
   ],
   "attachments": {},
   "metadata": {
    "datalore": {
     "sheet_delimiter": true
    }
   }
  },
  {
   "cell_type": "code",
   "source": [
    "import numpy as np\n",
    "import pandas as pd\n",
    "import matplotlib.pyplot as plt\n",
    "\n",
    "\n",
    "from sklearn.model_selection import train_test_split\n",
    "from sklearn.metrics import accuracy_score\n",
    "from sklearn.metrics import confusion_matrix"
   ],
   "execution_count": 1,
   "outputs": [],
   "metadata": {
    "datalore": {
     "type": "CODE",
     "hide_input_from_viewers": false,
     "hide_output_from_viewers": false
    }
   }
  },
  {
   "cell_type": "code",
   "source": [
    "def to_scalar(x, i=None):\n",
    "    \"\"\"Returns i-th element from an array x if x is array, else returns x\n",
    "Args:\n",
    "    x - input array\n",
    "    i - index to return\n",
    "Returns:\n",
    "    x[i] if x is an array and x else\n",
    "\"\"\"\n",
    "    if isinstance(x, (np.ndarray, list)):\n",
    "        return x[i]\n",
    "    return x"
   ],
   "execution_count": 2,
   "outputs": [],
   "metadata": {
    "datalore": {
     "type": "CODE",
     "hide_input_from_viewers": false,
     "hide_output_from_viewers": false
    }
   }
  },
  {
   "cell_type": "code",
   "source": [
    "def gradient_checker(J, grad_J, theta, eps=1e-4, rtol=1e-5):\n",
    "    \"\"\"Gradient checker for scalar and vector functions\n",
    "    Args:\n",
    "        J - function of theta\n",
    "        grad_J - gradient of function J\n",
    "        theta - the point for which to compute the numerical gradient\n",
    "        eps - step value in numerical gradient\n",
    "        rtol - relative tolerance threshold value\n",
    "    Returns:\n",
    "        error message if the relative tolerance is greater for some axis\n",
    "        or \"Gradient check passed\" else\n",
    "    \"\"\"\n",
    "    it = np.nditer(theta, flags=['multi_index'], op_flags=['readwrite'])\n",
    "\n",
    "    while not it.finished:\n",
    "        ix = it.multi_index\n",
    "\n",
    "        theta_ = np.array(theta, copy=True)\n",
    "        theta_[ix] += eps\n",
    "        J1 = J(theta_)\n",
    "\n",
    "        theta_ = np.array(theta, copy=True)\n",
    "        theta_[ix] -= eps\n",
    "        J2 = J(theta_)\n",
    "\n",
    "        J1 = to_scalar(J1, ix)\n",
    "        J2 = to_scalar(J2, ix)\n",
    "\n",
    "        num_grad = (J1 - J2)/(2*eps)\n",
    "\n",
    "        rel_tol = np.abs(num_grad - grad_J(theta))[ix]/(1. + np.minimum(np.abs(num_grad), np.abs(grad_J(theta)[ix])))\n",
    "\n",
    "        if np.all(rel_tol > rtol):\n",
    "            print(f'Incorrect gradient for the axis {str(ix)}')\n",
    "            return\n",
    "        it.iternext()\n",
    "    print(f'Gradient check passed')"
   ],
   "execution_count": 3,
   "outputs": [],
   "metadata": {
    "datalore": {
     "type": "CODE",
     "hide_input_from_viewers": false,
     "hide_output_from_viewers": false
    }
   }
  },
  {
   "cell_type": "code",
   "source": [
    "def J_theta_global(model, loss_function, theta, idx, x, y):\n",
    "    previous = model.parameters()[idx].copy()\n",
    "    np.copyto(dst=model.parameters()[idx], src=theta)\n",
    "    outputs = model(x)\n",
    "    loss = loss_function(outputs, y)\n",
    "    np.copyto(dst=model.parameters()[idx], src=previous)\n",
    "    return loss"
   ],
   "execution_count": 4,
   "outputs": [],
   "metadata": {
    "datalore": {
     "type": "CODE",
     "hide_input_from_viewers": false,
     "hide_output_from_viewers": false
    }
   }
  },
  {
   "cell_type": "code",
   "source": [
    "def dJ_theta_global(model, loss_function, theta, idx, x):\n",
    "    grad = model.backward(loss_function)[idx] / x.shape[0]\n",
    "    return grad.reshape(theta.shape)"
   ],
   "execution_count": 5,
   "outputs": [],
   "metadata": {
    "datalore": {
     "type": "CODE",
     "hide_input_from_viewers": false,
     "hide_output_from_viewers": false
    }
   }
  },
  {
   "cell_type": "code",
   "source": [
    "def sigmoid(x,slope=1.0):\n",
    "    return 1.0/(1.0+np.exp(-slope*x))"
   ],
   "execution_count": 6,
   "outputs": [],
   "metadata": {
    "datalore": {
     "type": "CODE",
     "hide_input_from_viewers": false,
     "hide_output_from_viewers": false
    }
   }
  },
  {
   "cell_type": "code",
   "source": [
    "def sigmoid_prime(x,slope=1.0):\n",
    "    return slope*sigmoid(x,slope=slope)*(1.0-sigmoid(x,slope=slope))"
   ],
   "execution_count": 7,
   "outputs": [],
   "metadata": {
    "datalore": {
     "type": "CODE",
     "hide_input_from_viewers": false,
     "hide_output_from_viewers": false
    }
   }
  },
  {
   "cell_type": "code",
   "source": [
    "z = np.random.normal(size=5)\n",
    "gradient_checker(sigmoid, sigmoid_prime, z, eps=1e-4, rtol=1e-5)"
   ],
   "execution_count": 8,
   "outputs": [
    {
     "name": "stdout",
     "output_type": "stream",
     "text": [
      "Gradient check passed\n"
     ]
    }
   ],
   "metadata": {
    "datalore": {
     "type": "CODE",
     "hide_input_from_viewers": false,
     "hide_output_from_viewers": false
    }
   }
  },
  {
   "cell_type": "code",
   "source": [
    "def plot_digit(digit, size=8, caption=None):\n",
    "    digit = digit.reshape(size, size)\n",
    "    digit = (digit - np.min(digit))/(np.max(digit) - np.min(digit))\n",
    "    p = ggplot() + geom_image(image_data=digit) + labs(x='', y='') \\\n",
    "        + theme(axis_line='blank', axis_title='blank', axis_ticks='blank', axis_text='blank')\n",
    "    if caption:\n",
    "        p += ggtitle(caption)\n",
    "    return p;"
   ],
   "execution_count": 9,
   "outputs": [],
   "metadata": {
    "datalore": {
     "type": "CODE",
     "hide_input_from_viewers": false,
     "hide_output_from_viewers": false
    }
   }
  },
  {
   "cell_type": "code",
   "source": [
    "def gg_confusion_matrix(y, y_hat):\n",
    "    conf_mat = confusion_matrix(y, y_hat)[::-1]\n",
    "    confusion_dat = pd.DataFrame(conf_mat)\n",
    "    observed = confusion_dat.columns.values\n",
    "    actual = confusion_dat.index.values\n",
    "    xx, yy = np.meshgrid(actual, observed)\n",
    "    xx = xx.reshape(-1)\n",
    "    yy = yy.reshape(-1)\n",
    "    zz = conf_mat.reshape(-1)\n",
    "    dat = {'predicted':xx, 'actual':yy[::-1], 'z':zz}\n",
    "    p = ggplot(dat, aes('predicted', 'actual', fill='z')) \\\n",
    "        + geom_raster() \\\n",
    "        + geom_text(aes(label='z'), color='white')\\\n",
    "        + theme(legend_position='none', axis_ticks='blank', axis_line='blank')\\\n",
    "        + ggsize(500, 500) + scale_x_discrete() + scale_y_discrete()\\\n",
    "        + ggtitle('Confusion matrix')\n",
    "    return p"
   ],
   "execution_count": 10,
   "outputs": [],
   "metadata": {
    "datalore": {
     "type": "CODE",
     "hide_input_from_viewers": false,
     "hide_output_from_viewers": false
    }
   }
  },
  {
   "cell_type": "code",
   "source": [
    "def f1_score_micro(conf_matrix):\n",
    "    num_tags = conf_matrix.shape[0]\n",
    "    score = 0.\n",
    "    pr, p, r = 0., 0., 0.\n",
    "    for tag in range(num_tags):\n",
    "        pr += conf_matrix[tag, tag]\n",
    "        p += sum(conf_matrix[tag, :])\n",
    "        r += sum(conf_matrix[:, tag])\n",
    "    try:\n",
    "        score = 2 * pr / (p + r)\n",
    "    except ZeroDivisionError:\n",
    "        pass\n",
    "    return score"
   ],
   "execution_count": 11,
   "outputs": [],
   "metadata": {
    "datalore": {
     "type": "CODE",
     "hide_input_from_viewers": false,
     "hide_output_from_viewers": false
    }
   }
  },
  {
   "cell_type": "code",
   "source": [
    "from matplotlib.figure import Figure\n",
    "from matplotlib.axes import Axes"
   ],
   "execution_count": 12,
   "outputs": [],
   "metadata": {
    "datalore": {
     "type": "CODE",
     "hide_input_from_viewers": false,
     "hide_output_from_viewers": false
    }
   }
  },
  {
   "cell_type": "code",
   "source": [
    "import matplotlib.ticker as ticker"
   ],
   "execution_count": 13,
   "outputs": [],
   "metadata": {
    "datalore": {
     "type": "CODE",
     "hide_input_from_viewers": false,
     "hide_output_from_viewers": false
    }
   }
  },
  {
   "cell_type": "code",
   "source": [
    "import itertools"
   ],
   "execution_count": 14,
   "outputs": [],
   "metadata": {
    "datalore": {
     "type": "CODE",
     "hide_input_from_viewers": false,
     "hide_output_from_viewers": false
    }
   }
  },
  {
   "cell_type": "code",
   "source": [
    "def plot_confusion_matrix(conf_matrix, labels, title='Confusion matrix', cmap: str='Oranges'):\n",
    "    norm_cm = conf_matrix / conf_matrix.sum(axis=0)\n",
    "    norm_cm[norm_cm != norm_cm] = .0  # eliminate NaN\n",
    "    \n",
    "    fig: Figure = Figure(figsize=(7, 7))\n",
    "    ax: Axes = fig.add_subplot(1, 1, 1)\n",
    "    ax.set_title(label=title)\n",
    "\n",
    "    ax.matshow(norm_cm, cmap=cmap)\n",
    "    ax.set_xlabel('Actual')\n",
    "    ax.set_ylabel('Predicted')\n",
    "\n",
    "    ax.set_xticklabels([''] + labels, rotation=90)\n",
    "    ax.set_yticklabels([''] + labels)\n",
    "    ax.xaxis.set_major_locator(ticker.MultipleLocator(1))\n",
    "    ax.yaxis.set_major_locator(ticker.MultipleLocator(1))\n",
    "\n",
    "    ax.grid(False)\n",
    "    plt.tight_layout()\n",
    "\n",
    "    for i, j in itertools.product(range(conf_matrix.shape[0]), range(conf_matrix.shape[1])):\n",
    "        ax.text(j, i, format(int(conf_matrix[i, j]), 'd') if conf_matrix[i, j] != 0 else '.',\n",
    "                horizontalalignment='center', verticalalignment='center', fontsize=6, color='black')\n",
    "    fig.set_tight_layout('true')\n",
    "    return fig"
   ],
   "execution_count": 15,
   "outputs": [],
   "metadata": {
    "datalore": {
     "type": "CODE",
     "hide_input_from_viewers": false,
     "hide_output_from_viewers": false
    }
   }
  },
  {
   "cell_type": "code",
   "source": [],
   "execution_count": 15,
   "outputs": [],
   "metadata": {
    "datalore": {
     "type": "CODE",
     "hide_input_from_viewers": false,
     "hide_output_from_viewers": false
    }
   }
  },
  {
   "cell_type": "markdown",
   "source": [
    "# FFN"
   ],
   "attachments": {},
   "metadata": {
    "datalore": {
     "sheet_delimiter": true
    }
   }
  },
  {
   "cell_type": "markdown",
   "source": [
    "# Problems 1 and 2 starter code\n",
    "You can see below the starter code for the group of tasks related to forward networks."
   ],
   "attachments": {},
   "metadata": {
    "datalore": {
     "type": "MD",
     "hide_input_from_viewers": false,
     "hide_output_from_viewers": false
    }
   }
  },
  {
   "cell_type": "code",
   "source": [
    "from sklearn.datasets import load_digits\n",
    "from typing import List, Optional, Union\n",
    "import json\n",
    "import time"
   ],
   "execution_count": 16,
   "outputs": [],
   "metadata": {
    "datalore": {
     "type": "CODE",
     "hide_input_from_viewers": false,
     "hide_output_from_viewers": false
    }
   }
  },
  {
   "cell_type": "code",
   "source": [
    "digits_bunch = load_digits()\n",
    "digits_df = pd.DataFrame(digits_bunch.data)\n",
    "digits_df['target'] = pd.Series(pd.Categorical.from_codes(digits_bunch.target, categories=digits_bunch.target_names))"
   ],
   "execution_count": 17,
   "outputs": [],
   "metadata": {
    "datalore": {
     "type": "CODE",
     "hide_input_from_viewers": false,
     "hide_output_from_viewers": false
    }
   }
  },
  {
   "cell_type": "code",
   "source": [
    "type(digits_bunch)"
   ],
   "execution_count": 18,
   "outputs": [
    {
     "data": {
      "text/plain": "sklearn.utils.Bunch"
     },
     "execution_count": 18,
     "metadata": {},
     "output_type": "execute_result"
    }
   ],
   "metadata": {
    "datalore": {
     "type": "CODE",
     "hide_input_from_viewers": false,
     "hide_output_from_viewers": false
    }
   }
  },
  {
   "cell_type": "code",
   "source": [
    "X, y = digits_df.drop('target', axis=1), digits_df['target']\n",
    "print('X shape: {}, y shape: {}'.format(X.shape, y.shape))"
   ],
   "execution_count": 19,
   "outputs": [
    {
     "name": "stdout",
     "output_type": "stream",
     "text": [
      "X shape: (1797, 64), y shape: (1797,)\n"
     ]
    }
   ],
   "metadata": {
    "datalore": {
     "type": "CODE",
     "hide_input_from_viewers": false,
     "hide_output_from_viewers": false
    }
   }
  },
  {
   "cell_type": "code",
   "source": [
    "X, y = X.values, y.values\n",
    "y = y.astype(int)\n",
    "X = X / 16"
   ],
   "execution_count": 20,
   "outputs": [],
   "metadata": {
    "datalore": {
     "type": "CODE",
     "hide_input_from_viewers": false,
     "hide_output_from_viewers": false
    }
   }
  },
  {
   "cell_type": "code",
   "source": [
    "X_train_val, X_test, y_train_val, y_test = train_test_split(X, y, test_size=0.2, stratify=y, random_state=42)\n",
    "X_train, X_val, y_train, y_val = train_test_split(X_train_val, y_train_val, test_size=0.2, stratify=y_train_val, random_state=42)\n",
    "print('X_train shape: {}, X_val shape: {}, X_test shape: {}'.format(X_train.shape, X_val.shape, X_test.shape))"
   ],
   "execution_count": 21,
   "outputs": [
    {
     "name": "stdout",
     "output_type": "stream",
     "text": [
      "X_train shape: (1149, 64), X_val shape: (288, 64), X_test shape: (360, 64)\n"
     ]
    }
   ],
   "metadata": {
    "datalore": {
     "type": "CODE",
     "hide_input_from_viewers": false,
     "hide_output_from_viewers": false
    }
   }
  },
  {
   "cell_type": "code",
   "source": [
    "random_ind = np.random.randint(low=0, high=X.shape[0], size=100)\n",
    "digit_examples = X[random_ind]"
   ],
   "execution_count": 55,
   "outputs": [],
   "metadata": {
    "datalore": {
     "type": "CODE",
     "hide_input_from_viewers": false,
     "hide_output_from_viewers": false
    }
   }
  },
  {
   "cell_type": "code",
   "source": [
    "bunch = GGBunch()\n",
    "x0, y0 = 0, 0\n",
    "row = 0\n",
    "col = 0\n",
    "width = 50\n",
    "height = width\n",
    "step = width + 0\n",
    "n_cols = 10\n",
    "for digit in digit_examples:\n",
    "    if col == n_cols:\n",
    "        col = 0\n",
    "        row += 1\n",
    "    plot = plot_digit(digit)\n",
    "    bunch.add_plot(plot, x0 + col*step, y0 + row*step, width, height)\n",
    "    col += 1\n",
    "bunch.show()"
   ],
   "execution_count": 56,
   "outputs": [
    {
     "ename": "NameError",
     "evalue": "name 'GGBunch' is not defined",
     "output_type": "error",
     "traceback": [
      "\u001B[0;31m---------------------------------------------------------------------------\u001B[0m",
      "\u001B[0;31mNameError\u001B[0m                                 Traceback (most recent call last)",
      "Input \u001B[0;32mIn [56]\u001B[0m, in \u001B[0;36m<cell line: 1>\u001B[0;34m()\u001B[0m\n\u001B[0;32m----> 1\u001B[0m bunch \u001B[38;5;241m=\u001B[39m GGBunch()\n\u001B[1;32m      2\u001B[0m x0, y0 \u001B[38;5;241m=\u001B[39m \u001B[38;5;241m0\u001B[39m, \u001B[38;5;241m0\u001B[39m\n\u001B[1;32m      3\u001B[0m row \u001B[38;5;241m=\u001B[39m \u001B[38;5;241m0\u001B[39m\n",
      "\u001B[0;31mNameError\u001B[0m: name 'GGBunch' is not defined"
     ]
    }
   ],
   "metadata": {
    "datalore": {
     "type": "CODE",
     "hide_input_from_viewers": false,
     "hide_output_from_viewers": false
    }
   }
  },
  {
   "cell_type": "code",
   "source": [
    "class Function:\n",
    "    def __call__(self) -> \"Tensor\":\n",
    "        pass\n",
    "    \n",
    "    def backward(self, *args, **kwargs):\n",
    "        pass"
   ],
   "execution_count": 22,
   "outputs": [],
   "metadata": {
    "datalore": {
     "type": "CODE",
     "hide_input_from_viewers": false,
     "hide_output_from_viewers": false
    }
   }
  },
  {
   "cell_type": "code",
   "source": [
    "class Tensor:\n",
    "    def __init__(self, data: np.ndarray, func: Optional[Function]=None, name: str=None):\n",
    "        self.data: np.ndarray = data\n",
    "        self.grad: np.ndarray = np.zeros(data.shape)\n",
    "        self.func = func\n",
    "        self.__name__ = name\n",
    "    \n",
    "    def backward(self, grad: Optional[np.ndarray] = None):\n",
    "        if grad is not None:\n",
    "            assert grad.shape == self.grad.shape\n",
    "            self.grad += grad\n",
    "            if self.func:\n",
    "                self.func.backward(grad)\n",
    "        else:\n",
    "            if self.func:\n",
    "                self.func.backward()\n",
    "\n",
    "    def zero_grad(self):\n",
    "        self.grad[:] = .0\n",
    "    \n",
    "    @property\n",
    "    def shape(self):\n",
    "        return self.data.shape\n",
    "    \n",
    "    @property\n",
    "    def size(self):\n",
    "        return self.data.size\n",
    "    \n",
    "    def astype(self, dtype: Union[str, np.dtype]):\n",
    "        return self.data.astype(dtype)\n",
    "    \n",
    "    def __str__(self) -> str:\n",
    "        return str(self.data)"
   ],
   "execution_count": 23,
   "outputs": [],
   "metadata": {
    "datalore": {
     "type": "CODE",
     "hide_input_from_viewers": false,
     "hide_output_from_viewers": false
    }
   }
  },
  {
   "cell_type": "code",
   "source": [
    "class Module:\n",
    "    def __init__(self):\n",
    "        self.parameters: List[Tensor] = []\n",
    "        self.__name__ = self.__class__.__name__\n",
    "        self.state_dict = {}\n",
    "        self.training = True\n",
    "    \n",
    "    @staticmethod\n",
    "    def get_module_state_dict(module: \"Module\"):\n",
    "        keys = [param.__name__ for param in module.__dict__['parameters']]\n",
    "        values = [param.data.tolist() for param in module.__dict__['parameters']]\n",
    "        return dict(zip(keys, values))\n",
    "     \n",
    "    def update_state_dict(self):\n",
    "        module_state_dicts = []\n",
    "        module_names = []\n",
    "        for key in self.__dict__:\n",
    "            value = self.__dict__[key]\n",
    "            base_class_name = value.__class__.__bases__[0].__name__\n",
    "            class_name = value.__class__.__name__\n",
    "            if base_class_name == 'Module':\n",
    "                class_has_parameters = hasattr(value, \"parameters\")\n",
    "                if class_has_parameters:\n",
    "                    parameters_not_empty = len(value.parameters) > 0\n",
    "                    if parameters_not_empty:\n",
    "                        module_names.append(key)\n",
    "                        module_state_dict = self.get_module_state_dict(value)\n",
    "                        module_state_dicts.append(module_state_dict)\n",
    "        self.state_dict = dict(zip(module_names, module_state_dicts))\n",
    "\n",
    "    def register_parameter(self, param: Tensor):\n",
    "        self.parameters.append(param)\n",
    "\n",
    "    def register_parameters(self, param_list_or_module: Union[List[Tensor], \"Module\", List[\"Module\"]]):\n",
    "        if isinstance(param_list_or_module, List):\n",
    "            for element in param_list_or_module:\n",
    "                if isinstance(element, Tensor):\n",
    "                    self.register_parameter(element)\n",
    "                elif isinstance(element, Module):\n",
    "                    for param in element.parameters:\n",
    "                        self.register_parameter(param)\n",
    "                else:\n",
    "                    raise TypeError(\"Parameter should be of type Tensor\")\n",
    "        elif isinstance(param_list_or_module, Module):\n",
    "            for param in param_list_or_module.parameters:\n",
    "                self.register_parameter(param)\n",
    "        self.update_state_dict()\n",
    "    \n",
    "    def zero_grad(self):\n",
    "        for param in self.parameters:\n",
    "            param.zero_grad()\n",
    "    \n",
    "    def forward(self, *args, **kwargs):\n",
    "        raise NotImplementedError\n",
    "    \n",
    "    def __call__(self, *args, **kwargs):\n",
    "        return self.forward(*args, **kwargs)\n",
    "    \n",
    "    def size(self):\n",
    "        s = 0\n",
    "        for param in self.parameters:\n",
    "            s += param.data.size\n",
    "        return s\n",
    "    \n",
    "    def update_parameters_from_state_dict(self):\n",
    "        for key in self.__dict__:\n",
    "            if key in self.state_dict:\n",
    "                for param in self.__dict__[key].parameters:\n",
    "                    param.data = np.asarray(self.state_dict[key][param.__name__])\n",
    "\n",
    "    def save(self, filename: str = None):\n",
    "        if filename is None:\n",
    "            filename = time.strftime(\"%Y%m%d-%H%M%S\") + '.json'\n",
    "        self.update_state_dict()\n",
    "        with open(filename, 'w', encoding='utf-8') as f:\n",
    "            json.dump(self.state_dict, f, ensure_ascii=False, indent=4)\n",
    "    \n",
    "    def load(self, filename: str):\n",
    "        with open(filename, 'r') as f:\n",
    "            json_str = f.read()\n",
    "            self.state_dict = json.loads(json_str)\n",
    "        self.update_parameters_from_state_dict()\n",
    "    \n",
    "    def train(self):\n",
    "        for key in self.__dict__:\n",
    "            module = self.__dict__[key]\n",
    "            base_class_name = module.__class__.__bases__[0].__name__\n",
    "            if base_class_name == 'Module':\n",
    "                module.training = True\n",
    "    \n",
    "    def eval(self):\n",
    "        for key in self.__dict__:\n",
    "            module = self.__dict__[key]\n",
    "            base_class_name = module.__class__.__bases__[0].__name__\n",
    "            if base_class_name == 'Module':\n",
    "                module.training = False"
   ],
   "execution_count": 24,
   "outputs": [],
   "metadata": {
    "datalore": {
     "type": "CODE",
     "hide_input_from_viewers": false,
     "hide_output_from_viewers": false
    }
   }
  },
  {
   "cell_type": "code",
   "source": [
    "def Wandb(in_dim, out_dim):\n",
    "    W = np.random.normal(loc=0, scale=0.1, size=(in_dim, out_dim))\n",
    "    b = np.random.normal(loc=0, scale=0.1, size=(1, out_dim))\n",
    "    return Tensor(W, name='weights'), Tensor(b, name='bias')"
   ],
   "execution_count": 25,
   "outputs": [],
   "metadata": {
    "datalore": {
     "type": "CODE",
     "hide_input_from_viewers": false,
     "hide_output_from_viewers": false
    }
   }
  },
  {
   "cell_type": "code",
   "source": [
    "class Linear(Function):\n",
    "    def __init__(self, x: Tensor, W: Tensor, b: Tensor = None):\n",
    "        self.x = x\n",
    "        self.W = W\n",
    "        self.b = b\n",
    "\n",
    "    def __call__(self):\n",
    "        outputs = np.dot(self.x.data, self.W.data) + self.b.data\n",
    "        return Tensor(outputs, func=self)\n",
    "\n",
    "    def backward(self, grad: np.ndarray):\n",
    "        dW = np.dot(self.x.data.T, grad)\n",
    "        db = grad.sum(axis=0)\n",
    "        grad = np.dot(grad, self.W.data.T)\n",
    "        self.W.backward(dW.reshape(self.W.shape))\n",
    "        self.b.backward(db.reshape(self.b.shape))\n",
    "        self.x.backward(grad.reshape(self.x.shape))"
   ],
   "execution_count": 26,
   "outputs": [],
   "metadata": {
    "datalore": {
     "type": "CODE",
     "hide_input_from_viewers": false,
     "hide_output_from_viewers": false
    }
   }
  },
  {
   "cell_type": "code",
   "source": [
    "class LinearLayer(Module):\n",
    "    def __init__(self, in_dim: int, out_dim: int):\n",
    "        super().__init__()\n",
    "        self.W, self.b = Wandb(in_dim, out_dim)\n",
    "        self.register_parameters([self.W, self.b])\n",
    "        self.x = None\n",
    "\n",
    "    def forward(self, x: Tensor):\n",
    "        return Linear(x, self.W, self.b)()"
   ],
   "execution_count": 27,
   "outputs": [],
   "metadata": {
    "datalore": {
     "type": "CODE",
     "hide_input_from_viewers": false,
     "hide_output_from_viewers": false
    }
   }
  },
  {
   "cell_type": "code",
   "source": [
    "def sigmoid(x):\n",
    "    s = 1.0 / (1.0 + np.exp(-x))\n",
    "    return s"
   ],
   "execution_count": 28,
   "outputs": [],
   "metadata": {
    "datalore": {
     "type": "CODE",
     "hide_input_from_viewers": false,
     "hide_output_from_viewers": false
    }
   }
  },
  {
   "cell_type": "code",
   "source": [
    "class Sigmoid(Function):\n",
    "    def __init__(self, x: Tensor):\n",
    "        self.x = x\n",
    "\n",
    "    def __call__(self):\n",
    "        self.a = sigmoid(self.x.data)\n",
    "        return Tensor(self.a, self)\n",
    "\n",
    "    def backward(self, grad: np.ndarray):\n",
    "        grad = self.a * (1. - self.a) * grad.reshape(self.a.shape)\n",
    "        self.x.backward(grad)"
   ],
   "execution_count": 29,
   "outputs": [],
   "metadata": {
    "datalore": {
     "type": "CODE",
     "hide_input_from_viewers": false,
     "hide_output_from_viewers": false
    }
   }
  },
  {
   "cell_type": "code",
   "source": [
    "class SigmoidFunction(Module):\n",
    "    def __init__(self):\n",
    "        super().__init__()\n",
    "\n",
    "    def forward(self, x: Tensor):\n",
    "        return Sigmoid(x)()"
   ],
   "execution_count": 30,
   "outputs": [],
   "metadata": {
    "datalore": {
     "type": "CODE",
     "hide_input_from_viewers": false,
     "hide_output_from_viewers": false
    }
   }
  },
  {
   "cell_type": "code",
   "source": [
    "def softmax(x: Tensor):\n",
    "    a = np.amax(x.data, axis=1)[:, np.newaxis]\n",
    "    ex = np.exp(x.data - a)\n",
    "    ex_sum = np.sum(ex, axis=1)[:, np.newaxis]\n",
    "    out = ex / ex_sum\n",
    "    return Tensor(out, x.func)"
   ],
   "execution_count": 31,
   "outputs": [],
   "metadata": {
    "datalore": {
     "type": "CODE",
     "hide_input_from_viewers": false,
     "hide_output_from_viewers": false
    }
   }
  },
  {
   "cell_type": "code",
   "source": [
    "def one_hot_encoder(labels: Tensor, n_classes=10):\n",
    "    encoded = np.zeros((labels.size, n_classes))\n",
    "    encoded[np.arange(labels.size), labels.astype(int)] = 1\n",
    "    return Tensor(encoded)"
   ],
   "execution_count": 32,
   "outputs": [],
   "metadata": {
    "datalore": {
     "type": "CODE",
     "hide_input_from_viewers": false,
     "hide_output_from_viewers": false
    }
   }
  },
  {
   "cell_type": "code",
   "source": [
    "class NLL(Function):\n",
    "    def __init__(self, y_hat: Tensor, y: Tensor, eps: float = 1e-15):\n",
    "        self.y_hat = softmax(y_hat)\n",
    "        self.y = one_hot_encoder(y)\n",
    "        self.eps = eps\n",
    "\n",
    "    def __call__(self):\n",
    "        logs = np.log(self.y_hat.data + self.eps)\n",
    "        loss = np.multiply(-self.y.data, logs).sum(axis=1).sum()\n",
    "        return Tensor(loss, self)\n",
    "    \n",
    "    def backward(self):\n",
    "        grad = self.y_hat.data - self.y.data\n",
    "        self.y_hat.backward(grad)"
   ],
   "execution_count": 33,
   "outputs": [],
   "metadata": {
    "datalore": {
     "type": "CODE",
     "hide_input_from_viewers": false,
     "hide_output_from_viewers": false
    }
   }
  },
  {
   "cell_type": "code",
   "source": [
    "class CrossEntropyLoss(Module):\n",
    "    def __init__(self, eps=1e-15):\n",
    "        super().__init__()\n",
    "        self.eps = eps\n",
    "\n",
    "    def forward(self, output, target):\n",
    "        return NLL(output, target, self.eps)()"
   ],
   "execution_count": 34,
   "outputs": [],
   "metadata": {
    "datalore": {
     "type": "CODE",
     "hide_input_from_viewers": false,
     "hide_output_from_viewers": false
    }
   }
  },
  {
   "cell_type": "code",
   "source": [
    "class Optimizer:\n",
    "    def __init__(self, params: List[Tensor], lr: float = 0.001):\n",
    "        self.params = params\n",
    "        self.lr = lr\n",
    "\n",
    "    def step(self, *args, **kwargs):\n",
    "        raise NotImplemented\n",
    "    \n",
    "    def zero_grad(self):\n",
    "        for param in self.params:\n",
    "            param.zero_grad()"
   ],
   "execution_count": 35,
   "outputs": [],
   "metadata": {
    "datalore": {
     "type": "CODE",
     "hide_input_from_viewers": false,
     "hide_output_from_viewers": false
    }
   }
  },
  {
   "cell_type": "code",
   "source": [
    "class SGD(Optimizer):\n",
    "    def __init__(self, params: List[Tensor], lr: float = 0.001):\n",
    "        super().__init__(params, lr)\n",
    "\n",
    "    def step(self):\n",
    "        for param in self.params:\n",
    "            param.data -= self.lr * param.grad"
   ],
   "execution_count": 36,
   "outputs": [],
   "metadata": {
    "datalore": {
     "type": "CODE",
     "hide_input_from_viewers": false,
     "hide_output_from_viewers": false
    }
   }
  },
  {
   "cell_type": "code",
   "source": [
    "class Scheduler:\n",
    "    def __init__(self, optimizer: Optimizer, last_epoch: int = -1):\n",
    "        self.optimizer = optimizer\n",
    "        self.base_lr = optimizer.lr\n",
    "        self.last_epoch = last_epoch\n",
    "    \n",
    "    def step(self):\n",
    "        raise NotImplementedError"
   ],
   "execution_count": 37,
   "outputs": [],
   "metadata": {
    "datalore": {
     "type": "CODE",
     "hide_input_from_viewers": false,
     "hide_output_from_viewers": false
    }
   }
  },
  {
   "cell_type": "code",
   "source": [
    "class ConstantLR(Scheduler):\n",
    "    def __init__(self, optimizer: Optimizer):\n",
    "        super().__init__(optimizer)\n",
    "        self.lr = optimizer.lr\n",
    "    \n",
    "    def step(self):\n",
    "        self.last_epoch += 1"
   ],
   "execution_count": 38,
   "outputs": [],
   "metadata": {
    "datalore": {
     "type": "CODE",
     "hide_input_from_viewers": false,
     "hide_output_from_viewers": false
    }
   }
  },
  {
   "cell_type": "code",
   "source": [
    "class CosineAnnealingLR(Scheduler):\n",
    "    def __init__(self, optimizer: Optimizer, T_max: int, eta_min: float = 0, anneal_epochs: int = None, last_epoch: int = -1):\n",
    "        super().__init__(optimizer)\n",
    "        self.T_max = T_max\n",
    "        self.eta_min = eta_min\n",
    "        self.lr = optimizer.lr\n",
    "        self.last_epoch = last_epoch\n",
    "        self.start_epoch = last_epoch\n",
    "        self.anneal_epochs = anneal_epochs\n",
    "    \n",
    "    @staticmethod\n",
    "    def _cosine_anneal(t):\n",
    "        return (1 + np.cos(np.pi * t)) / 2\n",
    "\n",
    "    def get_lr(self):\n",
    "        if self.anneal_epochs is not None:\n",
    "            passed_epochs = self.last_epoch - self.start_epoch\n",
    "            if passed_epochs > self.anneal_epochs:\n",
    "                return self.lr\n",
    "        t = self.last_epoch / self.T_max\n",
    "        return self.eta_min + (self.base_lr - self.eta_min) * self._cosine_anneal(t)\n",
    "    \n",
    "    def step(self):\n",
    "        self.lr = self.get_lr()\n",
    "        self.optimizer.lr = self.lr\n",
    "        self.last_epoch += 1"
   ],
   "execution_count": 39,
   "outputs": [],
   "metadata": {
    "datalore": {
     "type": "CODE",
     "hide_input_from_viewers": false,
     "hide_output_from_viewers": false
    }
   }
  },
  {
   "cell_type": "code",
   "source": [
    "def xavier_(weights):\n",
    "    for weight in weights:\n",
    "        in_dim, out_dim = weight.shape[-2:]\n",
    "        np.copyto(dst=weight.data, src=np.random.randn(*weight.shape) * np.sqrt(2. / (in_dim + out_dim)))"
   ],
   "execution_count": 40,
   "outputs": [],
   "metadata": {
    "datalore": {
     "type": "CODE",
     "hide_input_from_viewers": false,
     "hide_output_from_viewers": false
    }
   }
  },
  {
   "cell_type": "code",
   "source": [
    "class Feedforward(Module):\n",
    "    def __init__(self):\n",
    "        super().__init__()\n",
    "        self.fc1 = LinearLayer(64, 32)\n",
    "        self.fc2 = LinearLayer(32, 10)\n",
    "        self.sigmoid = SigmoidFunction()\n",
    "\n",
    "        xavier_(self.fc1.parameters)\n",
    "        xavier_(self.fc2.parameters)\n",
    "        self.register_parameters([self.fc1, self.fc2])\n",
    "\n",
    "    def forward(self, x: Tensor):\n",
    "        z1 = self.fc1(x)\n",
    "        a1 = self.sigmoid(z1)\n",
    "        z2 = self.fc2(a1)\n",
    "        return z2"
   ],
   "execution_count": 41,
   "outputs": [],
   "metadata": {
    "datalore": {
     "type": "CODE",
     "hide_input_from_viewers": false,
     "hide_output_from_viewers": false
    }
   }
  },
  {
   "cell_type": "code",
   "source": [
    "class DataLoader:\n",
    "    def __init__(self, data, target, batch_size=20):\n",
    "        self.data = data\n",
    "        self.target = target\n",
    "        self.batch_size = batch_size\n",
    "\n",
    "    def next(self):\n",
    "        m, _ = self.data.shape\n",
    "        rand_index = np.random.choice(m, size=m, replace=False)\n",
    "        X, y = self.data[rand_index], self.target[rand_index]\n",
    "        pos = 0\n",
    "        while pos < m:\n",
    "            X_batch, y_batch = X[pos:pos+self.batch_size], y[pos:pos+self.batch_size]\n",
    "            yield Tensor(X_batch), Tensor(y_batch)\n",
    "            pos += self.batch_size\n",
    "\n",
    "    def __call__(self):\n",
    "        return self.next()"
   ],
   "execution_count": 42,
   "outputs": [],
   "metadata": {
    "datalore": {
     "type": "CODE",
     "hide_input_from_viewers": false,
     "hide_output_from_viewers": false
    }
   }
  },
  {
   "cell_type": "code",
   "source": [
    "def eval_accuracy(model, val, y_val):\n",
    "    output = model(Tensor(val))\n",
    "    y_hat = np.argmax(output.data, axis=1)\n",
    "    return accuracy_score(y_val, y_hat)"
   ],
   "execution_count": 43,
   "outputs": [],
   "metadata": {
    "datalore": {
     "type": "CODE",
     "hide_input_from_viewers": false,
     "hide_output_from_viewers": false
    }
   }
  },
  {
   "cell_type": "code",
   "source": [
    "num_epochs = 50\n",
    "dataloader = DataLoader(X_train, y_train)\n",
    "model = Feedforward()\n",
    "loss_function = CrossEntropyLoss()\n",
    "optimizer = SGD(model.parameters, lr=0.1)\n",
    "scheduler = ConstantLR(optimizer)"
   ],
   "execution_count": 44,
   "outputs": [],
   "metadata": {
    "datalore": {
     "type": "CODE",
     "hide_input_from_viewers": false,
     "hide_output_from_viewers": false
    }
   }
  },
  {
   "cell_type": "code",
   "source": [
    "model.size()"
   ],
   "execution_count": 45,
   "outputs": [
    {
     "data": {
      "text/plain": "2410"
     },
     "execution_count": 45,
     "metadata": {},
     "output_type": "execute_result"
    }
   ],
   "metadata": {
    "datalore": {
     "type": "CODE",
     "hide_input_from_viewers": false,
     "hide_output_from_viewers": false
    }
   }
  },
  {
   "cell_type": "markdown",
   "source": [
    "# Training"
   ],
   "attachments": {},
   "metadata": {
    "datalore": {
     "type": "MD",
     "hide_input_from_viewers": false,
     "hide_output_from_viewers": false
    }
   }
  },
  {
   "cell_type": "code",
   "source": [
    "losses = []\n",
    "accuracies = []\n",
    "lrs = []\n",
    "for epoch in range(num_epochs):\n",
    "    loss_sum = 0\n",
    "    for data in dataloader():\n",
    "        optimizer.zero_grad()\n",
    "        inputs, targets = data\n",
    "        outputs = model(inputs)\n",
    "        loss = loss_function(outputs, targets)\n",
    "        loss.backward()\n",
    "        optimizer.step()\n",
    "        loss_sum += loss.data\n",
    "    acc = eval_accuracy(model, X_val, y_val)\n",
    "    print(f'\\r epoch: [{epoch+1}/{num_epochs}], loss: {loss_sum}, acc: {acc}', end='')\n",
    "    losses.append(loss_sum)\n",
    "    accuracies.append(acc)\n",
    "    lrs.append(scheduler.lr)\n",
    "    scheduler.step()"
   ],
   "execution_count": 46,
   "outputs": [
    {
     "name": "stdout",
     "output_type": "stream",
     "text": [
      " epoch: [50/50], loss: 5.427461441024057, acc: 0.98263888888888886"
     ]
    }
   ],
   "metadata": {
    "datalore": {
     "type": "CODE",
     "hide_input_from_viewers": false,
     "hide_output_from_viewers": false
    }
   }
  },
  {
   "cell_type": "code",
   "source": [
    "epochs = np.arange(num_epochs)\n",
    "fig, ax = plt.subplots(1, 2, figsize=(15,5))\n",
    "ax[0].plot(epochs, losses)\n",
    "ax[0].set_title('Losses')\n",
    "ax[1].plot(epochs, accuracies)\n",
    "ax[1].set_title('Accuracy');"
   ],
   "execution_count": 47,
   "outputs": [
    {
     "data": {
      "text/plain": "<Figure size 1080x360 with 2 Axes>",
      "image/png": "[encoded data removed]"
     },
     "metadata": {
      "needs_background": "light"
     },
     "output_type": "display_data"
    }
   ],
   "metadata": {
    "datalore": {
     "type": "CODE",
     "hide_input_from_viewers": false,
     "hide_output_from_viewers": false
    }
   }
  },
  {
   "cell_type": "markdown",
   "source": [
    "# Train set confusion matrix"
   ],
   "attachments": {},
   "metadata": {
    "datalore": {
     "type": "MD",
     "hide_input_from_viewers": false,
     "hide_output_from_viewers": false
    }
   }
  },
  {
   "cell_type": "code",
   "source": [
    "model.eval()\n",
    "y_hat = model(Tensor(X_train))\n",
    "y_pred = np.argmax(y_hat.data, axis=1)"
   ],
   "execution_count": 48,
   "outputs": [],
   "metadata": {
    "datalore": {
     "type": "CODE",
     "hide_input_from_viewers": false,
     "hide_output_from_viewers": false
    }
   }
  },
  {
   "cell_type": "code",
   "source": [
    "gg_confusion_matrix(y_train, y_pred) + ggsize(500, 500)"
   ],
   "execution_count": 49,
   "outputs": [
    {
     "ename": "NameError",
     "evalue": "name 'ggplot' is not defined",
     "output_type": "error",
     "traceback": [
      "\u001B[0;31m---------------------------------------------------------------------------\u001B[0m",
      "\u001B[0;31mNameError\u001B[0m                                 Traceback (most recent call last)",
      "Input \u001B[0;32mIn [49]\u001B[0m, in \u001B[0;36m<cell line: 1>\u001B[0;34m()\u001B[0m\n\u001B[0;32m----> 1\u001B[0m gg_confusion_matrix(y_train, y_pred) \u001B[38;5;241m+\u001B[39m ggsize(\u001B[38;5;241m500\u001B[39m, \u001B[38;5;241m500\u001B[39m)\n",
      "Input \u001B[0;32mIn [10]\u001B[0m, in \u001B[0;36mgg_confusion_matrix\u001B[0;34m(y, y_hat)\u001B[0m\n\u001B[1;32m      9\u001B[0m zz \u001B[38;5;241m=\u001B[39m conf_mat\u001B[38;5;241m.\u001B[39mreshape(\u001B[38;5;241m-\u001B[39m\u001B[38;5;241m1\u001B[39m)\n\u001B[1;32m     10\u001B[0m dat \u001B[38;5;241m=\u001B[39m {\u001B[38;5;124m'\u001B[39m\u001B[38;5;124mpredicted\u001B[39m\u001B[38;5;124m'\u001B[39m:xx, \u001B[38;5;124m'\u001B[39m\u001B[38;5;124mactual\u001B[39m\u001B[38;5;124m'\u001B[39m:yy[::\u001B[38;5;241m-\u001B[39m\u001B[38;5;241m1\u001B[39m], \u001B[38;5;124m'\u001B[39m\u001B[38;5;124mz\u001B[39m\u001B[38;5;124m'\u001B[39m:zz}\n\u001B[0;32m---> 11\u001B[0m p \u001B[38;5;241m=\u001B[39m \u001B[43mggplot\u001B[49m(dat, aes(\u001B[38;5;124m'\u001B[39m\u001B[38;5;124mpredicted\u001B[39m\u001B[38;5;124m'\u001B[39m, \u001B[38;5;124m'\u001B[39m\u001B[38;5;124mactual\u001B[39m\u001B[38;5;124m'\u001B[39m, fill\u001B[38;5;241m=\u001B[39m\u001B[38;5;124m'\u001B[39m\u001B[38;5;124mz\u001B[39m\u001B[38;5;124m'\u001B[39m)) \\\n\u001B[1;32m     12\u001B[0m     \u001B[38;5;241m+\u001B[39m geom_raster() \\\n\u001B[1;32m     13\u001B[0m     \u001B[38;5;241m+\u001B[39m geom_text(aes(label\u001B[38;5;241m=\u001B[39m\u001B[38;5;124m'\u001B[39m\u001B[38;5;124mz\u001B[39m\u001B[38;5;124m'\u001B[39m), color\u001B[38;5;241m=\u001B[39m\u001B[38;5;124m'\u001B[39m\u001B[38;5;124mwhite\u001B[39m\u001B[38;5;124m'\u001B[39m)\\\n\u001B[1;32m     14\u001B[0m     \u001B[38;5;241m+\u001B[39m theme(legend_position\u001B[38;5;241m=\u001B[39m\u001B[38;5;124m'\u001B[39m\u001B[38;5;124mnone\u001B[39m\u001B[38;5;124m'\u001B[39m, axis_ticks\u001B[38;5;241m=\u001B[39m\u001B[38;5;124m'\u001B[39m\u001B[38;5;124mblank\u001B[39m\u001B[38;5;124m'\u001B[39m, axis_line\u001B[38;5;241m=\u001B[39m\u001B[38;5;124m'\u001B[39m\u001B[38;5;124mblank\u001B[39m\u001B[38;5;124m'\u001B[39m)\\\n\u001B[1;32m     15\u001B[0m     \u001B[38;5;241m+\u001B[39m ggsize(\u001B[38;5;241m500\u001B[39m, \u001B[38;5;241m500\u001B[39m) \u001B[38;5;241m+\u001B[39m scale_x_discrete() \u001B[38;5;241m+\u001B[39m scale_y_discrete()\\\n\u001B[1;32m     16\u001B[0m     \u001B[38;5;241m+\u001B[39m ggtitle(\u001B[38;5;124m'\u001B[39m\u001B[38;5;124mConfusion matrix\u001B[39m\u001B[38;5;124m'\u001B[39m)\n\u001B[1;32m     17\u001B[0m \u001B[38;5;28;01mreturn\u001B[39;00m p\n",
      "\u001B[0;31mNameError\u001B[0m: name 'ggplot' is not defined"
     ]
    }
   ],
   "metadata": {
    "datalore": {
     "type": "CODE",
     "hide_input_from_viewers": false,
     "hide_output_from_viewers": false
    }
   }
  },
  {
   "cell_type": "code",
   "source": [
    "cm = confusion_matrix(y_train, y_pred)\n",
    "score = f1_score_micro(cm)\n",
    "print(f'F1 score micro: {score}')"
   ],
   "execution_count": 50,
   "outputs": [
    {
     "name": "stdout",
     "output_type": "stream",
     "text": [
      "F1 score micro: 1.0\n"
     ]
    }
   ],
   "metadata": {
    "datalore": {
     "type": "CODE",
     "hide_input_from_viewers": false,
     "hide_output_from_viewers": false
    }
   }
  },
  {
   "cell_type": "markdown",
   "source": [
    "# Test set confusion matrix"
   ],
   "attachments": {},
   "metadata": {
    "datalore": {
     "type": "MD",
     "hide_input_from_viewers": false,
     "hide_output_from_viewers": false
    }
   }
  },
  {
   "cell_type": "code",
   "source": [
    "model.eval()\n",
    "y_hat = model(Tensor(X_test))\n",
    "y_pred = np.argmax(y_hat.data, axis=1)"
   ],
   "execution_count": 51,
   "outputs": [],
   "metadata": {
    "datalore": {
     "type": "CODE",
     "hide_input_from_viewers": false,
     "hide_output_from_viewers": false
    }
   }
  },
  {
   "cell_type": "code",
   "source": [
    "gg_confusion_matrix(y_test, y_pred) + ggsize(500, 500)"
   ],
   "execution_count": 52,
   "outputs": [
    {
     "ename": "NameError",
     "evalue": "name 'ggplot' is not defined",
     "output_type": "error",
     "traceback": [
      "\u001B[0;31m---------------------------------------------------------------------------\u001B[0m",
      "\u001B[0;31mNameError\u001B[0m                                 Traceback (most recent call last)",
      "Input \u001B[0;32mIn [52]\u001B[0m, in \u001B[0;36m<cell line: 1>\u001B[0;34m()\u001B[0m\n\u001B[0;32m----> 1\u001B[0m gg_confusion_matrix(y_test, y_pred) \u001B[38;5;241m+\u001B[39m ggsize(\u001B[38;5;241m500\u001B[39m, \u001B[38;5;241m500\u001B[39m)\n",
      "Input \u001B[0;32mIn [10]\u001B[0m, in \u001B[0;36mgg_confusion_matrix\u001B[0;34m(y, y_hat)\u001B[0m\n\u001B[1;32m      9\u001B[0m zz \u001B[38;5;241m=\u001B[39m conf_mat\u001B[38;5;241m.\u001B[39mreshape(\u001B[38;5;241m-\u001B[39m\u001B[38;5;241m1\u001B[39m)\n\u001B[1;32m     10\u001B[0m dat \u001B[38;5;241m=\u001B[39m {\u001B[38;5;124m'\u001B[39m\u001B[38;5;124mpredicted\u001B[39m\u001B[38;5;124m'\u001B[39m:xx, \u001B[38;5;124m'\u001B[39m\u001B[38;5;124mactual\u001B[39m\u001B[38;5;124m'\u001B[39m:yy[::\u001B[38;5;241m-\u001B[39m\u001B[38;5;241m1\u001B[39m], \u001B[38;5;124m'\u001B[39m\u001B[38;5;124mz\u001B[39m\u001B[38;5;124m'\u001B[39m:zz}\n\u001B[0;32m---> 11\u001B[0m p \u001B[38;5;241m=\u001B[39m \u001B[43mggplot\u001B[49m(dat, aes(\u001B[38;5;124m'\u001B[39m\u001B[38;5;124mpredicted\u001B[39m\u001B[38;5;124m'\u001B[39m, \u001B[38;5;124m'\u001B[39m\u001B[38;5;124mactual\u001B[39m\u001B[38;5;124m'\u001B[39m, fill\u001B[38;5;241m=\u001B[39m\u001B[38;5;124m'\u001B[39m\u001B[38;5;124mz\u001B[39m\u001B[38;5;124m'\u001B[39m)) \\\n\u001B[1;32m     12\u001B[0m     \u001B[38;5;241m+\u001B[39m geom_raster() \\\n\u001B[1;32m     13\u001B[0m     \u001B[38;5;241m+\u001B[39m geom_text(aes(label\u001B[38;5;241m=\u001B[39m\u001B[38;5;124m'\u001B[39m\u001B[38;5;124mz\u001B[39m\u001B[38;5;124m'\u001B[39m), color\u001B[38;5;241m=\u001B[39m\u001B[38;5;124m'\u001B[39m\u001B[38;5;124mwhite\u001B[39m\u001B[38;5;124m'\u001B[39m)\\\n\u001B[1;32m     14\u001B[0m     \u001B[38;5;241m+\u001B[39m theme(legend_position\u001B[38;5;241m=\u001B[39m\u001B[38;5;124m'\u001B[39m\u001B[38;5;124mnone\u001B[39m\u001B[38;5;124m'\u001B[39m, axis_ticks\u001B[38;5;241m=\u001B[39m\u001B[38;5;124m'\u001B[39m\u001B[38;5;124mblank\u001B[39m\u001B[38;5;124m'\u001B[39m, axis_line\u001B[38;5;241m=\u001B[39m\u001B[38;5;124m'\u001B[39m\u001B[38;5;124mblank\u001B[39m\u001B[38;5;124m'\u001B[39m)\\\n\u001B[1;32m     15\u001B[0m     \u001B[38;5;241m+\u001B[39m ggsize(\u001B[38;5;241m500\u001B[39m, \u001B[38;5;241m500\u001B[39m) \u001B[38;5;241m+\u001B[39m scale_x_discrete() \u001B[38;5;241m+\u001B[39m scale_y_discrete()\\\n\u001B[1;32m     16\u001B[0m     \u001B[38;5;241m+\u001B[39m ggtitle(\u001B[38;5;124m'\u001B[39m\u001B[38;5;124mConfusion matrix\u001B[39m\u001B[38;5;124m'\u001B[39m)\n\u001B[1;32m     17\u001B[0m \u001B[38;5;28;01mreturn\u001B[39;00m p\n",
      "\u001B[0;31mNameError\u001B[0m: name 'ggplot' is not defined"
     ]
    }
   ],
   "metadata": {
    "datalore": {
     "type": "CODE",
     "hide_input_from_viewers": false,
     "hide_output_from_viewers": false
    }
   }
  },
  {
   "cell_type": "code",
   "source": [
    "cm = confusion_matrix(y_test, y_pred)\n",
    "score = f1_score_micro(cm)\n",
    "print(f'F1 score micro: {score}')"
   ],
   "execution_count": 53,
   "outputs": [
    {
     "name": "stdout",
     "output_type": "stream",
     "text": [
      "F1 score micro: 0.975\n"
     ]
    }
   ],
   "metadata": {
    "datalore": {
     "type": "CODE",
     "hide_input_from_viewers": false,
     "hide_output_from_viewers": false
    }
   }
  },
  {
   "cell_type": "markdown",
   "source": [
    "# Check gradients\n",
    "\n",
    "A very detailed list of tips and tricks for gradient checks and sanity checks can be found here: [http://cs231n.github.io/neural-networks-3/#ensemble](http://cs231n.github.io/neural-networks-3/#ensemble)"
   ],
   "attachments": {},
   "metadata": {
    "datalore": {
     "type": "MD",
     "hide_input_from_viewers": false,
     "hide_output_from_viewers": false
    }
   }
  },
  {
   "cell_type": "code",
   "source": [
    "def gradient_checker(J, grad_J, theta, eps=1e-5, rtol=1e-5):\n",
    "    \"\"\"Gradient checker for scalar and vector functions\n",
    "    Args:\n",
    "    J - function of theta\n",
    "    grad_J - gradient of function J\n",
    "    theta - the point for which to compute the numerical gradient\n",
    "    eps - step value in numerical gradient\n",
    "    rtol - relative tolerance threshold value\n",
    "    Returns:\n",
    "    error message if the relative tolerance is greater for some axis\n",
    "    or \"Gradient check passed\" else\n",
    "    \"\"\"\n",
    "    it = np.nditer(theta, flags=['multi_index'], op_flags=['readwrite'])\n",
    "\n",
    "    while not it.finished:\n",
    "        ix = it.multi_index\n",
    "        theta_ = np.array(theta, copy=True)\n",
    "        theta_[ix] += eps\n",
    "        J1 = J(theta_)\n",
    "        theta_ = np.array(theta, copy=True)\n",
    "        theta_[ix] -= eps\n",
    "        J2 = J(theta_)\n",
    "\n",
    "        J1 = to_scalar(J1, ix)\n",
    "        J2 = to_scalar(J2, ix)\n",
    "\n",
    "        num_grad = (J1 - J2)/(2*eps)\n",
    "\n",
    "        rel_tol = np.abs(num_grad - grad_J)[ix]/(1. + np.minimum(np.abs(num_grad), np.abs(grad_J[ix])))\n",
    "\n",
    "        if rel_tol > rtol:\n",
    "            print(f'num_grad: {num_grad} grad: {grad_J[ix]} factor: {grad_J[ix] / num_grad}')\n",
    "            print(f'Incorrect gradient for the axis {str(ix)}')\n",
    "            return\n",
    "        it.iternext()\n",
    "    print(f'Gradient check passed')"
   ],
   "execution_count": 54,
   "outputs": [],
   "metadata": {
    "datalore": {
     "type": "CODE",
     "hide_input_from_viewers": false,
     "hide_output_from_viewers": false
    }
   }
  },
  {
   "cell_type": "code",
   "source": [
    "def J_theta_global(model, loss_function, theta, idx, x, y):\n",
    "    original = model.parameters[idx].data.copy()\n",
    "    np.copyto(dst=model.parameters[idx].data, src=theta)\n",
    "    outputs = model(x)\n",
    "    loss_value = loss_function(outputs, y).data\n",
    "    np.copyto(dst=model.parameters[idx].data, src=original)\n",
    "    model.zero_grad()\n",
    "    return loss_value"
   ],
   "execution_count": 55,
   "outputs": [],
   "metadata": {
    "datalore": {
     "type": "CODE",
     "hide_input_from_viewers": false,
     "hide_output_from_viewers": false
    }
   }
  },
  {
   "cell_type": "code",
   "source": [
    "def dJ_theta_global(model, loss_function, x, y):\n",
    "    outputs = model(x)\n",
    "    loss = loss_function(outputs, y)\n",
    "    loss.backward()\n",
    "    grads = []\n",
    "    for parameter in model.parameters:\n",
    "        grads.append(parameter.grad.copy())\n",
    "    model.zero_grad()\n",
    "    return grads"
   ],
   "execution_count": 56,
   "outputs": [],
   "metadata": {
    "datalore": {
     "type": "CODE",
     "hide_input_from_viewers": false,
     "hide_output_from_viewers": false
    }
   }
  },
  {
   "cell_type": "code",
   "source": [
    "loss_function = CrossEntropyLoss()\n",
    "model_ = Feedforward()\n",
    "dJ_theta_tensors = dJ_theta_global(model_, loss_function, Tensor(X_val), Tensor(y_val))\n",
    "global_start = time.time()\n",
    "for i, parameter in enumerate(model_.parameters):\n",
    "    start = time.time()\n",
    "    print(f'[{i}]: Start')\n",
    "    def J_theta(theta, idx=i, x=Tensor(X_val), y=Tensor(y_val)):\n",
    "        return J_theta_global(model_, loss_function, theta, idx, x, y)\n",
    "    gradient_checker(J_theta, dJ_theta_tensors[i], parameter.data)\n",
    "    print(f'[{i}]: Elapsed time: {time.time() - start:.1f}s')\n",
    "print(f'Total elapsed time: {time.time() - global_start:.1f}s')"
   ],
   "execution_count": 57,
   "outputs": [
    {
     "name": "stdout",
     "output_type": "stream",
     "text": [
      "[0]: Start\n",
      "Gradient check passed\n",
      "[0]: Elapsed time: 2.7s\n",
      "[1]: Start\n",
      "Gradient check passed\n",
      "[1]: Elapsed time: 0.0s\n",
      "[2]: Start\n",
      "Gradient check passed\n",
      "[2]: Elapsed time: 0.2s\n",
      "[3]: Start\n",
      "Gradient check passed\n",
      "[3]: Elapsed time: 0.0s\n",
      "Total elapsed time: 2.9s\n"
     ]
    }
   ],
   "metadata": {
    "datalore": {
     "type": "CODE",
     "hide_input_from_viewers": false,
     "hide_output_from_viewers": false
    }
   }
  },
  {
   "cell_type": "markdown",
   "source": [
    "# 1: Dropout"
   ],
   "attachments": {},
   "metadata": {
    "datalore": {
     "sheet_delimiter": true
    }
   }
  },
  {
   "cell_type": "markdown",
   "source": [
    "# Problem 1: Dropout (2.0)\n",
    "Implement the dropout layer and check the resulting FFN model with ` gradient_check` (Note: you have to make corrections in gradient check in order to be able to check dropout with it. Why?). \n",
    "Take the description from the paper [Dropout: A Simple Way to Prevent Neural Networks from Overfitting](http://www.cs.toronto.edu/~rsalakhu/papers/srivastava14a.pdf)\n",
    "\n",
    "Don't forget to scale the ouput inverse proportionally to the probability $p$ of keeping the forward signal.\n",
    "\n",
    "Add dropout layer to the model on Checks worksheet. Where would you insert it?"
   ],
   "attachments": {},
   "metadata": {
    "datalore": {
     "type": "MD",
     "hide_input_from_viewers": false,
     "hide_output_from_viewers": false
    }
   }
  },
  {
   "cell_type": "code",
   "source": [
    "class DropoutFunction(Function):\n",
    "    def __init__(self, x, dropout_ratio, seed=None):\n",
    "        if not 0.0 <= dropout_ratio < 1.0:\n",
    "            raise ValueError('dropout_ratio must be in the range [0, 1)')\n",
    "\n",
    "        np.random.seed(seed)\n",
    "\n",
    "        self.x = x\n",
    "        self.dropout_ratio = dropout_ratio\n",
    "        self.mask = None\n",
    "\n",
    "    def __call__(self):\n",
    "        self.mask = (np.random.rand(*self.x.shape) < self.dropout_ratio) / self.dropout_ratio\n",
    "        return Tensor(self.x.data * self.mask, func=self)\n",
    "\n",
    "    def backward(self, grad: np.ndarray):\n",
    "        grad *= self.mask\n",
    "        self.x.backward(grad)"
   ],
   "execution_count": 58,
   "outputs": [],
   "metadata": {
    "datalore": {
     "type": "CODE",
     "hide_input_from_viewers": false,
     "hide_output_from_viewers": false
    }
   }
  },
  {
   "cell_type": "code",
   "source": [
    "class Dropout(Module):\n",
    "    def __init__(self, dropout_ratio=0.5, seed=26):\n",
    "        super().__init__()\n",
    "        self.dropout_ratio = dropout_ratio\n",
    "        self.seed = seed\n",
    "\n",
    "    def forward(self, x: Tensor):\n",
    "\n",
    "        if self.training:\n",
    "            return DropoutFunction(x, self.dropout_ratio, self.seed)()\n",
    "\n",
    "        else:\n",
    "            return x"
   ],
   "execution_count": 65,
   "outputs": [],
   "metadata": {
    "datalore": {
     "type": "CODE",
     "hide_input_from_viewers": false,
     "hide_output_from_viewers": false
    }
   }
  },
  {
   "cell_type": "markdown",
   "source": [
    "# 2: Adam"
   ],
   "attachments": {},
   "metadata": {
    "datalore": {
     "sheet_delimiter": true
    }
   }
  },
  {
   "cell_type": "markdown",
   "source": [
    "# Problem 2 (2.0)\n",
    "\n",
    "Implement Adam optimizer with weight decay (see the paper [Decoupled Weight Decay Regularization](https://arxiv.org/abs/1711.05101)) and check the implementation with the FFN model."
   ],
   "attachments": {},
   "metadata": {
    "datalore": {
     "type": "MD",
     "hide_input_from_viewers": false,
     "hide_output_from_viewers": false
    }
   }
  },
  {
   "cell_type": "code",
   "source": [
    "class Adam(Optimizer):\n",
    "    def __init__(self, params: list[Tensor], lr: float = 0.001, beta1=0.9, beta2=0.999, epsilon=1e-8, weight_decay=0.1,\n",
    "                 eta=1.0):\n",
    "        super().__init__(params, lr)\n",
    "        self.params = params\n",
    "        self.lr = lr\n",
    "        self.beta1 = beta1\n",
    "        self.beta2 = beta2\n",
    "        self.epsilon = epsilon\n",
    "        self.weight_decay = weight_decay\n",
    "        self.eta = eta\n",
    "        self.m = [np.zeros_like(param.data) for param in self.params]  # список векторов\n",
    "        self.v = [np.zeros_like(param.data) for param in self.params]  # список векторов\n",
    "        self.t = 0\n",
    "\n",
    "    def step(self):\n",
    "        self.t = self.t + 1\n",
    "\n",
    "        for indeces, param in enumerate(self.params):\n",
    "            gradient = param.grad + (self.weight_decay * param.data)\n",
    "            self.m[indeces] = self.beta1 * self.m[indeces] + (1 - self.beta1) * gradient\n",
    "            self.v[indeces] = self.beta2 * self.v[indeces] + (1 - self.beta2) * (gradient ** 2)\n",
    "\n",
    "            m_hat = self.m[indeces] / (1 - self.beta1 ** self.t)\n",
    "            v_hat = self.v[indeces] / (1 - self.beta2 ** self.t)\n",
    "\n",
    "            param.data -= self.eta * (\n",
    "                        self.lr * m_hat / (np.sqrt(v_hat) + self.epsilon) + (self.weight_decay * param.data))"
   ],
   "execution_count": 66,
   "outputs": [],
   "metadata": {
    "datalore": {
     "type": "CODE",
     "hide_input_from_viewers": false,
     "hide_output_from_viewers": false
    }
   }
  },
  {
   "cell_type": "markdown",
   "source": [
    "# Checks"
   ],
   "attachments": {},
   "metadata": {
    "datalore": {
     "sheet_delimiter": true
    }
   }
  },
  {
   "cell_type": "markdown",
   "source": [
    "# Add dropout layer to the model"
   ],
   "attachments": {},
   "metadata": {
    "datalore": {
     "type": "MD",
     "hide_input_from_viewers": false,
     "hide_output_from_viewers": false
    }
   }
  },
  {
   "cell_type": "code",
   "source": [
    "class Feedforward(Module):\n",
    "    def __init__(self):\n",
    "        super().__init__()\n",
    "        self.fc1 = LinearLayer(64, 32)\n",
    "        self.fc2 = LinearLayer(32, 10)\n",
    "        self.sigmoid = SigmoidFunction()\n",
    "        self.dropout = Dropout(0.7, 26)\n",
    "\n",
    "        xavier_(self.fc1.parameters)\n",
    "        xavier_(self.fc2.parameters)\n",
    "        self.register_parameters([self.fc1, self.fc2])\n",
    "\n",
    "    def forward(self, x: Tensor):\n",
    "        z1 = self.fc1(x)\n",
    "        a1 = self.sigmoid(z1)\n",
    "        a1 = self.dropout(a1)\n",
    "        z2 = self.fc2(a1)\n",
    "        return z2"
   ],
   "execution_count": 67,
   "outputs": [],
   "metadata": {
    "datalore": {
     "type": "CODE",
     "hide_input_from_viewers": false,
     "hide_output_from_viewers": false
    }
   }
  },
  {
   "cell_type": "markdown",
   "source": [
    "# Training: use Adam to train your model "
   ],
   "attachments": {},
   "metadata": {
    "datalore": {
     "type": "MD",
     "hide_input_from_viewers": false,
     "hide_output_from_viewers": false
    }
   }
  },
  {
   "cell_type": "code",
   "source": [
    "num_epochs = 50\n",
    "swa_start = 5\n",
    "dataloader = DataLoader(X_train, y_train)\n",
    "model = Feedforward()\n",
    "loss_function = CrossEntropyLoss()\n",
    "# optimizer = SGD(model.parameters, lr=0.1)\n",
    "optimizer = Adam(model.parameters, lr=0.015, beta1=0.9, beta2=0.999, epsilon=1e-8)\n",
    "scheduler = ConstantLR(optimizer)"
   ],
   "execution_count": 68,
   "outputs": [],
   "metadata": {
    "datalore": {
     "type": "CODE",
     "hide_input_from_viewers": false,
     "hide_output_from_viewers": false
    }
   }
  },
  {
   "cell_type": "code",
   "source": [
    "model.size()"
   ],
   "execution_count": 69,
   "outputs": [
    {
     "data": {
      "text/plain": "2410"
     },
     "execution_count": 69,
     "metadata": {},
     "output_type": "execute_result"
    }
   ],
   "metadata": {
    "datalore": {
     "type": "CODE",
     "hide_input_from_viewers": false,
     "hide_output_from_viewers": false
    }
   }
  },
  {
   "cell_type": "code",
   "source": [
    "losses = []\n",
    "accuracies = []\n",
    "lrs = []\n",
    "for epoch in range(num_epochs):\n",
    "    loss_sum = 0\n",
    "    for data in dataloader():\n",
    "        optimizer.zero_grad()\n",
    "        inputs, targets = data\n",
    "        outputs = model(inputs)\n",
    "        loss = loss_function(outputs, targets)\n",
    "        loss.backward()\n",
    "        optimizer.step()\n",
    "        loss_sum += loss.data\n",
    "    acc = eval_accuracy(model, X_val, y_val)\n",
    "    print(f'\\r epoch: [{epoch + 1}/{num_epochs}], loss: {loss_sum}, acc: {acc} ', end='')\n",
    "    losses.append(loss_sum)\n",
    "    accuracies.append(acc)\n",
    "    lrs.append(scheduler.lr)\n",
    "    scheduler.step()"
   ],
   "execution_count": 70,
   "outputs": [
    {
     "name": "stdout",
     "output_type": "stream",
     "text": [
      " epoch: [50/50], loss: 2619.9738154941715, acc: 0.14930555555555555 "
     ]
    }
   ],
   "metadata": {
    "datalore": {
     "type": "CODE",
     "hide_input_from_viewers": false,
     "hide_output_from_viewers": false
    }
   }
  },
  {
   "cell_type": "code",
   "source": [
    "epochs = np.arange(num_epochs)\n",
    "fig, ax = plt.subplots(1, 2, figsize=(15,5))\n",
    "ax[0].plot(epochs, losses)\n",
    "ax[0].set_title('Losses')\n",
    "ax[1].plot(epochs, accuracies)\n",
    "ax[1].set_title('Accuracy');"
   ],
   "execution_count": 71,
   "outputs": [
    {
     "data": {
      "text/plain": "<Figure size 1080x360 with 2 Axes>",
      "image/png": "[encoded data removed]"
     },
     "metadata": {
      "needs_background": "light"
     },
     "output_type": "display_data"
    }
   ],
   "metadata": {
    "datalore": {
     "type": "CODE",
     "hide_input_from_viewers": false,
     "hide_output_from_viewers": false
    }
   }
  },
  {
   "cell_type": "markdown",
   "source": [
    "# Train set confusion matrix"
   ],
   "attachments": {},
   "metadata": {
    "datalore": {
     "type": "MD",
     "hide_input_from_viewers": false,
     "hide_output_from_viewers": false
    }
   }
  },
  {
   "cell_type": "code",
   "source": [
    "model.eval()\n",
    "y_hat = model(Tensor(X_train))\n",
    "y_pred = np.argmax(y_hat.data, axis=1)"
   ],
   "execution_count": 72,
   "outputs": [],
   "metadata": {
    "datalore": {
     "type": "CODE",
     "hide_input_from_viewers": false,
     "hide_output_from_viewers": false
    }
   }
  },
  {
   "cell_type": "code",
   "source": [
    "gg_confusion_matrix(y_train, y_pred) + ggsize(500, 500)"
   ],
   "execution_count": 73,
   "outputs": [
    {
     "ename": "NameError",
     "evalue": "name 'ggplot' is not defined",
     "output_type": "error",
     "traceback": [
      "\u001B[0;31m---------------------------------------------------------------------------\u001B[0m",
      "\u001B[0;31mNameError\u001B[0m                                 Traceback (most recent call last)",
      "Input \u001B[0;32mIn [73]\u001B[0m, in \u001B[0;36m<cell line: 1>\u001B[0;34m()\u001B[0m\n\u001B[0;32m----> 1\u001B[0m gg_confusion_matrix(y_train, y_pred) \u001B[38;5;241m+\u001B[39m ggsize(\u001B[38;5;241m500\u001B[39m, \u001B[38;5;241m500\u001B[39m)\n",
      "Input \u001B[0;32mIn [10]\u001B[0m, in \u001B[0;36mgg_confusion_matrix\u001B[0;34m(y, y_hat)\u001B[0m\n\u001B[1;32m      9\u001B[0m zz \u001B[38;5;241m=\u001B[39m conf_mat\u001B[38;5;241m.\u001B[39mreshape(\u001B[38;5;241m-\u001B[39m\u001B[38;5;241m1\u001B[39m)\n\u001B[1;32m     10\u001B[0m dat \u001B[38;5;241m=\u001B[39m {\u001B[38;5;124m'\u001B[39m\u001B[38;5;124mpredicted\u001B[39m\u001B[38;5;124m'\u001B[39m:xx, \u001B[38;5;124m'\u001B[39m\u001B[38;5;124mactual\u001B[39m\u001B[38;5;124m'\u001B[39m:yy[::\u001B[38;5;241m-\u001B[39m\u001B[38;5;241m1\u001B[39m], \u001B[38;5;124m'\u001B[39m\u001B[38;5;124mz\u001B[39m\u001B[38;5;124m'\u001B[39m:zz}\n\u001B[0;32m---> 11\u001B[0m p \u001B[38;5;241m=\u001B[39m \u001B[43mggplot\u001B[49m(dat, aes(\u001B[38;5;124m'\u001B[39m\u001B[38;5;124mpredicted\u001B[39m\u001B[38;5;124m'\u001B[39m, \u001B[38;5;124m'\u001B[39m\u001B[38;5;124mactual\u001B[39m\u001B[38;5;124m'\u001B[39m, fill\u001B[38;5;241m=\u001B[39m\u001B[38;5;124m'\u001B[39m\u001B[38;5;124mz\u001B[39m\u001B[38;5;124m'\u001B[39m)) \\\n\u001B[1;32m     12\u001B[0m     \u001B[38;5;241m+\u001B[39m geom_raster() \\\n\u001B[1;32m     13\u001B[0m     \u001B[38;5;241m+\u001B[39m geom_text(aes(label\u001B[38;5;241m=\u001B[39m\u001B[38;5;124m'\u001B[39m\u001B[38;5;124mz\u001B[39m\u001B[38;5;124m'\u001B[39m), color\u001B[38;5;241m=\u001B[39m\u001B[38;5;124m'\u001B[39m\u001B[38;5;124mwhite\u001B[39m\u001B[38;5;124m'\u001B[39m)\\\n\u001B[1;32m     14\u001B[0m     \u001B[38;5;241m+\u001B[39m theme(legend_position\u001B[38;5;241m=\u001B[39m\u001B[38;5;124m'\u001B[39m\u001B[38;5;124mnone\u001B[39m\u001B[38;5;124m'\u001B[39m, axis_ticks\u001B[38;5;241m=\u001B[39m\u001B[38;5;124m'\u001B[39m\u001B[38;5;124mblank\u001B[39m\u001B[38;5;124m'\u001B[39m, axis_line\u001B[38;5;241m=\u001B[39m\u001B[38;5;124m'\u001B[39m\u001B[38;5;124mblank\u001B[39m\u001B[38;5;124m'\u001B[39m)\\\n\u001B[1;32m     15\u001B[0m     \u001B[38;5;241m+\u001B[39m ggsize(\u001B[38;5;241m500\u001B[39m, \u001B[38;5;241m500\u001B[39m) \u001B[38;5;241m+\u001B[39m scale_x_discrete() \u001B[38;5;241m+\u001B[39m scale_y_discrete()\\\n\u001B[1;32m     16\u001B[0m     \u001B[38;5;241m+\u001B[39m ggtitle(\u001B[38;5;124m'\u001B[39m\u001B[38;5;124mConfusion matrix\u001B[39m\u001B[38;5;124m'\u001B[39m)\n\u001B[1;32m     17\u001B[0m \u001B[38;5;28;01mreturn\u001B[39;00m p\n",
      "\u001B[0;31mNameError\u001B[0m: name 'ggplot' is not defined"
     ]
    }
   ],
   "metadata": {
    "datalore": {
     "type": "CODE",
     "hide_input_from_viewers": false,
     "hide_output_from_viewers": false
    }
   }
  },
  {
   "cell_type": "code",
   "source": [
    "cm = confusion_matrix(y_train, y_pred)\n",
    "score = f1_score_micro(cm)\n",
    "print(f'F1 score micro: {score}')"
   ],
   "execution_count": 74,
   "outputs": [
    {
     "name": "stdout",
     "output_type": "stream",
     "text": [
      "F1 score micro: 0.17493472584856398\n"
     ]
    }
   ],
   "metadata": {
    "datalore": {
     "type": "CODE",
     "hide_input_from_viewers": false,
     "hide_output_from_viewers": false
    }
   }
  },
  {
   "cell_type": "markdown",
   "source": [
    "# Test set confusion matrix"
   ],
   "attachments": {},
   "metadata": {
    "datalore": {
     "type": "MD",
     "hide_input_from_viewers": false,
     "hide_output_from_viewers": false
    }
   }
  },
  {
   "cell_type": "code",
   "source": [
    "model.eval()\n",
    "y_hat = model(Tensor(X_test))\n",
    "y_pred = np.argmax(y_hat.data, axis=1)"
   ],
   "execution_count": 75,
   "outputs": [],
   "metadata": {
    "datalore": {
     "type": "CODE",
     "hide_input_from_viewers": false,
     "hide_output_from_viewers": false
    }
   }
  },
  {
   "cell_type": "code",
   "source": [
    "gg_confusion_matrix(y_test, y_pred) + ggsize(500, 500)"
   ],
   "execution_count": 76,
   "outputs": [
    {
     "ename": "NameError",
     "evalue": "name 'ggplot' is not defined",
     "output_type": "error",
     "traceback": [
      "\u001B[0;31m---------------------------------------------------------------------------\u001B[0m",
      "\u001B[0;31mNameError\u001B[0m                                 Traceback (most recent call last)",
      "Input \u001B[0;32mIn [76]\u001B[0m, in \u001B[0;36m<cell line: 1>\u001B[0;34m()\u001B[0m\n\u001B[0;32m----> 1\u001B[0m gg_confusion_matrix(y_test, y_pred) \u001B[38;5;241m+\u001B[39m ggsize(\u001B[38;5;241m500\u001B[39m, \u001B[38;5;241m500\u001B[39m)\n",
      "Input \u001B[0;32mIn [10]\u001B[0m, in \u001B[0;36mgg_confusion_matrix\u001B[0;34m(y, y_hat)\u001B[0m\n\u001B[1;32m      9\u001B[0m zz \u001B[38;5;241m=\u001B[39m conf_mat\u001B[38;5;241m.\u001B[39mreshape(\u001B[38;5;241m-\u001B[39m\u001B[38;5;241m1\u001B[39m)\n\u001B[1;32m     10\u001B[0m dat \u001B[38;5;241m=\u001B[39m {\u001B[38;5;124m'\u001B[39m\u001B[38;5;124mpredicted\u001B[39m\u001B[38;5;124m'\u001B[39m:xx, \u001B[38;5;124m'\u001B[39m\u001B[38;5;124mactual\u001B[39m\u001B[38;5;124m'\u001B[39m:yy[::\u001B[38;5;241m-\u001B[39m\u001B[38;5;241m1\u001B[39m], \u001B[38;5;124m'\u001B[39m\u001B[38;5;124mz\u001B[39m\u001B[38;5;124m'\u001B[39m:zz}\n\u001B[0;32m---> 11\u001B[0m p \u001B[38;5;241m=\u001B[39m \u001B[43mggplot\u001B[49m(dat, aes(\u001B[38;5;124m'\u001B[39m\u001B[38;5;124mpredicted\u001B[39m\u001B[38;5;124m'\u001B[39m, \u001B[38;5;124m'\u001B[39m\u001B[38;5;124mactual\u001B[39m\u001B[38;5;124m'\u001B[39m, fill\u001B[38;5;241m=\u001B[39m\u001B[38;5;124m'\u001B[39m\u001B[38;5;124mz\u001B[39m\u001B[38;5;124m'\u001B[39m)) \\\n\u001B[1;32m     12\u001B[0m     \u001B[38;5;241m+\u001B[39m geom_raster() \\\n\u001B[1;32m     13\u001B[0m     \u001B[38;5;241m+\u001B[39m geom_text(aes(label\u001B[38;5;241m=\u001B[39m\u001B[38;5;124m'\u001B[39m\u001B[38;5;124mz\u001B[39m\u001B[38;5;124m'\u001B[39m), color\u001B[38;5;241m=\u001B[39m\u001B[38;5;124m'\u001B[39m\u001B[38;5;124mwhite\u001B[39m\u001B[38;5;124m'\u001B[39m)\\\n\u001B[1;32m     14\u001B[0m     \u001B[38;5;241m+\u001B[39m theme(legend_position\u001B[38;5;241m=\u001B[39m\u001B[38;5;124m'\u001B[39m\u001B[38;5;124mnone\u001B[39m\u001B[38;5;124m'\u001B[39m, axis_ticks\u001B[38;5;241m=\u001B[39m\u001B[38;5;124m'\u001B[39m\u001B[38;5;124mblank\u001B[39m\u001B[38;5;124m'\u001B[39m, axis_line\u001B[38;5;241m=\u001B[39m\u001B[38;5;124m'\u001B[39m\u001B[38;5;124mblank\u001B[39m\u001B[38;5;124m'\u001B[39m)\\\n\u001B[1;32m     15\u001B[0m     \u001B[38;5;241m+\u001B[39m ggsize(\u001B[38;5;241m500\u001B[39m, \u001B[38;5;241m500\u001B[39m) \u001B[38;5;241m+\u001B[39m scale_x_discrete() \u001B[38;5;241m+\u001B[39m scale_y_discrete()\\\n\u001B[1;32m     16\u001B[0m     \u001B[38;5;241m+\u001B[39m ggtitle(\u001B[38;5;124m'\u001B[39m\u001B[38;5;124mConfusion matrix\u001B[39m\u001B[38;5;124m'\u001B[39m)\n\u001B[1;32m     17\u001B[0m \u001B[38;5;28;01mreturn\u001B[39;00m p\n",
      "\u001B[0;31mNameError\u001B[0m: name 'ggplot' is not defined"
     ]
    }
   ],
   "metadata": {
    "datalore": {
     "type": "CODE",
     "hide_input_from_viewers": false,
     "hide_output_from_viewers": false
    }
   }
  },
  {
   "cell_type": "code",
   "source": [
    "cm = confusion_matrix(y_test, y_pred)\n",
    "score = f1_score_micro(cm)\n",
    "print(f'F1 score micro: {score}')"
   ],
   "execution_count": 77,
   "outputs": [
    {
     "name": "stdout",
     "output_type": "stream",
     "text": [
      "F1 score micro: 0.175\n"
     ]
    }
   ],
   "metadata": {
    "datalore": {
     "type": "CODE",
     "hide_input_from_viewers": false,
     "hide_output_from_viewers": false
    }
   }
  },
  {
   "cell_type": "markdown",
   "source": [
    "# Check gradients: introduce corrections, which will allow you to check dropout (hint: in three blocks below)"
   ],
   "attachments": {},
   "metadata": {
    "datalore": {
     "type": "MD",
     "hide_input_from_viewers": false,
     "hide_output_from_viewers": false
    }
   }
  },
  {
   "cell_type": "code",
   "source": [
    "def gradient_checker(J, grad_J, theta, eps=1e-5, rtol=1e-5):\n",
    "    \"\"\"Gradient checker for scalar and vector functions\n",
    "Args:\n",
    "    J - function of theta\n",
    "    grad_J - gradient of function J\n",
    "    theta - the point for which to compute the numerical gradient\n",
    "    eps - step value in numerical gradient\n",
    "    rtol - relative tolerance threshold value\n",
    "\n",
    "Returns:\n",
    "    error message if the relative tolerance is greater for some axis\n",
    "    or \"Gradient check passed\" else\n",
    "\"\"\"\n",
    "    it = np.nditer(theta, flags=['multi_index'], op_flags=['readwrite'])\n",
    "\n",
    "    while not it.finished:\n",
    "        ix = it.multi_index\n",
    "        theta_ = np.array(theta, copy=True)\n",
    "        theta_[ix] += eps\n",
    "        J1 = J(theta_)\n",
    "        theta_ = np.array(theta, copy=True)\n",
    "        theta_[ix] -= eps\n",
    "        J2 = J(theta_)\n",
    "\n",
    "        J1 = to_scalar(J1, ix)\n",
    "        J2 = to_scalar(J2, ix)\n",
    "\n",
    "        num_grad = (J1 - J2) / (2 * eps)\n",
    "\n",
    "        rel_tol = np.abs(num_grad - grad_J)[ix] / (1. + np.minimum(np.abs(num_grad), np.abs(grad_J[ix])))\n",
    "\n",
    "        if rel_tol > rtol:\n",
    "            print(f'num_grad: {num_grad} grad: {grad_J[ix]} factor: {grad_J[ix] / num_grad}')\n",
    "            print(f'Incorrect gradient for the axis {str(ix)}')\n",
    "            return\n",
    "        it.iternext()\n",
    "    print(f'Gradient check passed')\n"
   ],
   "execution_count": 78,
   "outputs": [],
   "metadata": {
    "datalore": {
     "type": "CODE",
     "hide_input_from_viewers": false,
     "hide_output_from_viewers": false
    }
   }
  },
  {
   "cell_type": "code",
   "source": [
    "def J_theta_global(model, loss_function, theta, idx, x, y):\n",
    "    original = model.parameters[idx].data.copy()\n",
    "    np.copyto(dst=model.parameters[idx].data, src=theta)\n",
    "    outputs = model(x)\n",
    "    loss_value = loss_function(outputs, y).data\n",
    "    np.copyto(dst=model.parameters[idx].data, src=original)\n",
    "    model.zero_grad()\n",
    "    return loss_value"
   ],
   "execution_count": 79,
   "outputs": [],
   "metadata": {
    "datalore": {
     "type": "CODE",
     "hide_input_from_viewers": false,
     "hide_output_from_viewers": false
    }
   }
  },
  {
   "cell_type": "code",
   "source": [
    "def dJ_theta_global(model, loss_function, x, y):\n",
    "    outputs = model(x)\n",
    "    loss = loss_function(outputs, y)\n",
    "    loss.backward()\n",
    "    grads = []\n",
    "    for parameter in model.parameters:\n",
    "        grads.append(parameter.grad.copy())\n",
    "    model.zero_grad()\n",
    "    return grads"
   ],
   "execution_count": 80,
   "outputs": [],
   "metadata": {
    "datalore": {
     "type": "CODE",
     "hide_input_from_viewers": false,
     "hide_output_from_viewers": false
    }
   }
  },
  {
   "cell_type": "code",
   "source": [
    "loss_function = CrossEntropyLoss()\n",
    "model_ = Feedforward()\n",
    "dJ_theta_tensors = dJ_theta_global(model_, loss_function, Tensor(X_val), Tensor(y_val))\n",
    "global_start = time.time()\n",
    "for i, parameter in enumerate(model_.parameters):\n",
    "    start = time.time()\n",
    "    print(f'[{i}]: Start')\n",
    "    def J_theta(theta, idx=i, x=Tensor(X_val), y=Tensor(y_val)):\n",
    "        return J_theta_global(model_, loss_function, theta, idx, x, y)\n",
    "    gradient_checker(J_theta, dJ_theta_tensors[i], parameter.data)\n",
    "    print(f'[{i}]: Elapsed time: {time.time() - start:.1f}s')\n",
    "print(f'Total elapsed time: {time.time() - global_start:.1f}s')"
   ],
   "execution_count": 81,
   "outputs": [
    {
     "name": "stdout",
     "output_type": "stream",
     "text": [
      "[0]: Start\n",
      "Gradient check passed\n",
      "[0]: Elapsed time: 2.9s\n",
      "[1]: Start\n",
      "Gradient check passed\n",
      "[1]: Elapsed time: 0.0s\n",
      "[2]: Start\n",
      "Gradient check passed\n",
      "[2]: Elapsed time: 0.3s\n",
      "[3]: Start\n",
      "Gradient check passed\n",
      "[3]: Elapsed time: 0.0s\n",
      "Total elapsed time: 3.2s\n"
     ]
    }
   ],
   "metadata": {
    "datalore": {
     "type": "CODE",
     "hide_input_from_viewers": false,
     "hide_output_from_viewers": false
    }
   }
  },
  {
   "cell_type": "markdown",
   "source": [
    "# 3: Adversarial Attack"
   ],
   "attachments": {},
   "metadata": {
    "datalore": {
     "sheet_delimiter": true
    }
   }
  },
  {
   "cell_type": "markdown",
   "source": [
    "# Problem 3 (4.0)\n",
    "\n",
    "Using `PyTorch` write an implementation of the adversarial attack (any kind you like) for a classifier on MNIST digits.\n",
    "\n",
    "You can provide a link to your repository if you like, or just write or copy code here."
   ],
   "attachments": {},
   "metadata": {
    "datalore": {
     "type": "MD",
     "hide_input_from_viewers": false,
     "hide_output_from_viewers": false
    }
   }
  },
  {
   "cell_type": "code",
   "source": [
    "import numpy as np\n",
    "import pandas as pd\n",
    "import matplotlib.pyplot as plt\n",
    "import seaborn as sn\n",
    "import itertools\n",
    "from copy import copy\n",
    "import random\n",
    "import torch\n",
    "import torch.nn as nn\n",
    "import torch.optim as optim\n",
    "import torch.nn.functional as F\n",
    "from torch.utils.data import DataLoader\n",
    "from torch.autograd import Variable\n",
    "from sklearn.model_selection import train_test_split\n",
    "from sklearn.preprocessing import scale\n",
    "from scipy.stats import norm, uniform\n",
    "from sklearn.metrics import confusion_matrix, roc_curve\n",
    "from sklearn.metrics import precision_score, recall_score, f1_score, precision_recall_curve\n",
    "\n",
    "data = pd.read_csv(\"mnist_train.csv\")\n",
    "\n",
    "X_train, y_train = data.values[:, 1:] / 255, data.values[:, 0]\n",
    "\n",
    "data = pd.read_csv(\"mnist_test.csv\")\n",
    "\n",
    "X_test, y_test = data.values[:, 1:] / 255, data.values[:, 0]\n",
    "\n",
    "\n",
    "class Data:\n",
    "    def __init__(self, X, y):\n",
    "        self.X = torch.Tensor(X).float()\n",
    "        self.y = torch.Tensor(y).long()\n",
    "\n",
    "    def __getitem__(self, i):\n",
    "        return self.X[i], self.y[i]\n",
    "\n",
    "    def __len__(self):\n",
    "        return self.X.shape[0]\n",
    "\n",
    "\n",
    "dataset = Data(X_train, y_train)\n",
    "dataloader = DataLoader(dataset, batch_size=128, shuffle=True)\n",
    "\n",
    "\n",
    "class Net(nn.Module):\n",
    "    def __init__(self, input_size):\n",
    "        super(Net, self).__init__()\n",
    "        self.fc1 = nn.Linear(input_size, 128)\n",
    "        self.fc2 = nn.Linear(128, 128)\n",
    "        self.fc3 = nn.Linear(128, 10)\n",
    "\n",
    "    def forward(self, x):\n",
    "        x = F.relu(self.fc1(x))\n",
    "        x = F.relu(self.fc2(x))\n",
    "        x = self.fc3(x)\n",
    "        return x\n",
    "\n",
    "\n",
    "model = Net(X_train.shape[1])\n",
    "optim = torch.optim.Adam(model.parameters(), lr=1e-4)\n",
    "loss_function = nn.CrossEntropyLoss()\n",
    "\n",
    "losses = []\n",
    "epoch = 30\n",
    "\n",
    "for i in range(epoch):\n",
    "    sum_loss = 0\n",
    "\n",
    "    for batch in iter(dataloader):\n",
    "        X_, y_ = batch\n",
    "        y_hat = model(X_)\n",
    "        loss = loss_function(y_hat, y_.long())\n",
    "        optim.zero_grad()\n",
    "        loss.backward()\n",
    "        optim.step()\n",
    "        sum_loss += loss.item()\n",
    "    losses.append(sum_loss)\n",
    "\n",
    "    if (i + 1) % 5 == 0 or i == 0:\n",
    "        print(\"Episode:\", i + 1, \"Loss:\", sum_loss)\n",
    "\n",
    "plt.figure(figsize=(8, 6))\n",
    "plt.plot(list(range(epoch)), losses)\n",
    "plt.tight_layout()\n",
    "plt.show()\n",
    "\n",
    "\n",
    "def predict(X):\n",
    "    X = torch.Tensor(X).float()\n",
    "    y_hat = F.softmax(model(X), 1).detach().numpy()\n",
    "    return np.argmax(y_hat, axis=1), y_hat\n",
    "\n",
    "\n",
    "y_pred, _ = predict(X_test)\n",
    "\n",
    "cm = confusion_matrix(y_test, y_pred)\n",
    "df_cm = pd.DataFrame(cm, range(10), range(10))\n",
    "plt.figure(figsize=(10, 7))\n",
    "plt.xlabel('predicted')\n",
    "plt.ylabel('actual')\n",
    "sn.set(font_scale=1)  # for label size\n",
    "sn.heatmap(df_cm, annot=True)\n",
    "\n",
    "plt.show()\n",
    "\n",
    "print(\"точность на тесте =\", np.sum(predict(X_test)[0] == y_test) / len(y_test))\n",
    "\n",
    "\n",
    "def fast_adversarial_example(dig, n=784, n_classes=10, eta=0.01, iters=10):\n",
    "    y = torch.tensor([dig]).long()\n",
    "    x = torch.tensor(np.random.normal(loc=0, scale=0.01, size=n)).float()\n",
    "    for _ in range(iters):\n",
    "        x = Variable(x.data.clone(), requires_grad=True)\n",
    "        y_hat = model(x).unsqueeze(0)\n",
    "        loss = loss_function(y_hat, y)\n",
    "        model.zero_grad()\n",
    "        loss.backward()\n",
    "        grad = x.grad.data\n",
    "        x = torch.clamp(x - eta * grad.sign(), 0, 1)\n",
    "    return x\n",
    "\n",
    "\n",
    "example = fast_adversarial_example(8, eta=0.1, iters=5)\n",
    "\n",
    "alpha = 0.5\n",
    "X_spoiled = np.maximum(X_test * (1 - alpha), alpha * example.detach().numpy())\n",
    "y_test_model, _ = predict(X_spoiled)\n",
    "\n",
    "print(\"точность после атаки =\", np.sum(predict(X_spoiled)[0] == y_test) / len(y_test))\n",
    "\n",
    "cm = confusion_matrix(y_test, y_test_model)\n",
    "df_cm = pd.DataFrame(cm, range(10), range(10))\n",
    "plt.figure(figsize=(10, 7))\n",
    "plt.xlabel('predicted')\n",
    "plt.ylabel('actual')\n",
    "sn.set(font_scale=1)  # for label size\n",
    "sn.heatmap(df_cm, annot=True)\n",
    "\n",
    "plt.show()\n",
    "\n",
    "x_target = np.array([X_spoiled[0]])\n",
    "y_pred, score = predict(x_target)\n",
    "\n",
    "plt.figure(figsize=(16, 6))\n",
    "\n",
    "plt.subplot(121)\n",
    "pixels = x_target.reshape((28, 28))\n",
    "plt.imshow(pixels, cmap='gray')\n",
    "plt.title(f'Predicted digit: {y_pred}, Actual digit: {y_test[0]}')\n",
    "plt.axis('off')\n",
    "\n",
    "plt.subplot(122)\n",
    "plt.bar(range(10), score[0])\n",
    "plt.ylabel('score')\n",
    "plt.xlabel('labels')\n",
    "\n",
    "plt.show()\n"
   ],
   "execution_count": 82,
   "outputs": [
    {
     "ename": "ModuleNotFoundError",
     "evalue": "No module named 'seaborn'",
     "output_type": "error",
     "traceback": [
      "\u001B[0;31m---------------------------------------------------------------------------\u001B[0m",
      "\u001B[0;31mModuleNotFoundError\u001B[0m                       Traceback (most recent call last)",
      "Input \u001B[0;32mIn [82]\u001B[0m, in \u001B[0;36m<cell line: 4>\u001B[0;34m()\u001B[0m\n\u001B[1;32m      2\u001B[0m \u001B[38;5;28;01mimport\u001B[39;00m \u001B[38;5;21;01mpandas\u001B[39;00m \u001B[38;5;28;01mas\u001B[39;00m \u001B[38;5;21;01mpd\u001B[39;00m\n\u001B[1;32m      3\u001B[0m \u001B[38;5;28;01mimport\u001B[39;00m \u001B[38;5;21;01mmatplotlib\u001B[39;00m\u001B[38;5;21;01m.\u001B[39;00m\u001B[38;5;21;01mpyplot\u001B[39;00m \u001B[38;5;28;01mas\u001B[39;00m \u001B[38;5;21;01mplt\u001B[39;00m\n\u001B[0;32m----> 4\u001B[0m \u001B[38;5;28;01mimport\u001B[39;00m \u001B[38;5;21;01mseaborn\u001B[39;00m \u001B[38;5;28;01mas\u001B[39;00m \u001B[38;5;21;01msn\u001B[39;00m\n\u001B[1;32m      5\u001B[0m \u001B[38;5;28;01mimport\u001B[39;00m \u001B[38;5;21;01mitertools\u001B[39;00m\n\u001B[1;32m      6\u001B[0m \u001B[38;5;28;01mfrom\u001B[39;00m \u001B[38;5;21;01mcopy\u001B[39;00m \u001B[38;5;28;01mimport\u001B[39;00m copy\n",
      "\u001B[0;31mModuleNotFoundError\u001B[0m: No module named 'seaborn'"
     ]
    }
   ],
   "metadata": {
    "datalore": {
     "type": "CODE",
     "hide_input_from_viewers": false,
     "hide_output_from_viewers": false
    }
   }
  },
  {
   "cell_type": "markdown",
   "source": [
    "# DUE DATE"
   ],
   "attachments": {},
   "metadata": {
    "datalore": {
     "sheet_delimiter": true
    }
   }
  },
  {
   "cell_type": "markdown",
   "source": [
    "# The due date is 13 of April 2022 23:59:59\n",
    "\n",
    "## Instructions\n",
    "\n",
    "* To submit the assignment, share your workbook with me (with **Can edit** access rights).\n",
    "\n",
    "* Check, that you found all the tasks in the workbook.  "
   ],
   "attachments": {},
   "metadata": {
    "datalore": {
     "type": "MD",
     "hide_input_from_viewers": false,
     "hide_output_from_viewers": false
    }
   }
  }
 ],
 "metadata": {
  "datalore": {
   "version": 1,
   "computation_mode": "JUPYTER",
   "package_manager": "pip",
   "base_environment": "default",
   "packages": [
    {
     "name": "datalore",
     "version": "0.1.0",
     "source": "PIP"
    }
   ]
  }
 },
 "nbformat": 4,
 "nbformat_minor": 4
}