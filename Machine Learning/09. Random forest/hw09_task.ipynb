{
 "cells": [
  {
   "cell_type": "markdown",
   "metadata": {
    "id": "1PjQglGj4q54"
   },
   "source": [
    "# Случайные леса\n",
    "__Суммарное количество баллов: 10__\n",
    "\n",
    "__Решение отправлять на `ml.course.practice@gmail.com`__\n",
    "\n",
    "__Тема письма: `[ML][MS][HW09] <ФИ>`, где вместо `<ФИ>` указаны фамилия и имя__\n",
    "\n",
    "В этом задании вам предстоит реализовать ансамбль деревьев решений, известный как случайный лес, применить его к публичным данным пользователей социальной сети Вконтакте, и сравнить его эффективность с ансамблем, предоставляемым библиотекой CatBoost.\n",
    "\n",
    "В результате мы сможем определить, какие подписки пользователей больше всего влияют на определение возраста и пола человека. "
   ]
  },
  {
   "cell_type": "code",
   "execution_count": 1,
   "metadata": {
    "id": "LH5PiGz04q5-"
   },
   "outputs": [],
   "source": [
    "from sklearn.model_selection import train_test_split\n",
    "import numpy as np\n",
    "import pandas\n",
    "import random\n",
    "from scipy.stats import mode\n",
    "import matplotlib.pyplot as plt\n",
    "import matplotlib\n",
    "import copy\n",
    "from catboost import CatBoostClassifier"
   ]
  },
  {
   "cell_type": "code",
   "execution_count": 2,
   "metadata": {
    "id": "bQUJHTjS4q5-"
   },
   "outputs": [],
   "source": [
    "def gini(x):\n",
    "    _, counts = np.unique(x, return_counts=True)\n",
    "    proba = counts / len(x)\n",
    "    return np.sum(proba * (1 - proba))\n",
    "    \n",
    "def entropy(x):\n",
    "    _, counts = np.unique(x, return_counts=True)\n",
    "    proba = counts / len(x)\n",
    "    return -np.sum(proba * np.log2(proba))\n",
    "\n",
    "def gain(left_y, right_y, criterion):\n",
    "    y = np.concatenate((left_y, right_y))\n",
    "    return criterion(y) - (criterion(left_y) * len(left_y) + criterion(right_y) * len(right_y)) / len(y)"
   ]
  },
  {
   "cell_type": "markdown",
   "metadata": {
    "id": "tfxycK0Q4q5_"
   },
   "source": [
    "### Задание 1 (2 балла)\n",
    "Random Forest состоит из деревьев решений. Каждое такое дерево строится на одной из выборок, полученных при помощи bagging. Элементы, которые не вошли в новую обучающую выборку, образуют out-of-bag выборку. Кроме того, в каждом узле дерева мы случайным образом выбираем набор из `max_features` и ищем признак для предиката разбиения только в этом наборе.\n",
    "\n",
    "Сегодня мы будем работать только с бинарными признаками, поэтому нет необходимости выбирать значение признака для разбиения.\n",
    "\n",
    "#### Методы\n",
    "`predict(X)` - возвращает предсказанные метки для элементов выборки `X`\n",
    "\n",
    "#### Параметры конструктора\n",
    "`X, y` - обучающая выборка и соответствующие ей метки классов. Из нее нужно получить выборку для построения дерева при помощи bagging. Out-of-bag выборку нужно запомнить, она понадобится потом.\n",
    "\n",
    "`criterion=\"gini\"` - задает критерий, который будет использоваться при построении дерева. Возможные значения: `\"gini\"`, `\"entropy\"`.\n",
    "\n",
    "`max_depth=None` - ограничение глубины дерева. Если `None` - глубина не ограничена\n",
    "\n",
    "`min_samples_leaf=1` - минимальное количество элементов в каждом листе дерева.\n",
    "\n",
    "`max_features=\"auto\"` - количество признаков, которые могут использоваться в узле. Если `\"auto\"` - равно `sqrt(X.shape[1])`"
   ]
  },
  {
   "cell_type": "code",
   "execution_count": 3,
   "metadata": {
    "id": "8smLW2V_4q5_"
   },
   "outputs": [],
   "source": [
    "class Leaf:\n",
    "    def __init__(self, y):\n",
    "        self.y = y\n",
    "        self.classes, self.samples = np.unique(y, return_counts=True)\n",
    "        self.predicted = self.classes[np.argmax(self.samples)]\n",
    "\n",
    "\n",
    "class Node:\n",
    "    def __init__(self, split_dim, left, right):\n",
    "        self.split_dim = split_dim\n",
    "        self.left = left\n",
    "        self.right = right\n",
    "\n",
    "\n",
    "#  Добавить бэггинг\n",
    "\n",
    "class DecisionTree:\n",
    "    def __init__(self, X, y, criterion=\"gini\", max_depth=None, min_samples_leaf=1, max_features=\"auto\"):\n",
    "\n",
    "        self.max_depth = max_depth\n",
    "        self.min_samples_leaf = min_samples_leaf\n",
    "        self.max_features = max_features\n",
    "        self.criterion = entropy if criterion == 'entropy' else gini\n",
    "        bagging_indexes = np.random.choice(X.shape[0], X.shape[0], replace=True)\n",
    "        self.bagging_X, self.bagging_y = X[bagging_indexes], y[bagging_indexes]\n",
    "        self.out_of_bag_X = np.delete(X, bagging_indexes, axis=0)\n",
    "        self.out_of_bag_y = np.delete(y, bagging_indexes)\n",
    "\n",
    "\n",
    "\n",
    "    def build_node(self, X, y, depth=0):\n",
    "\n",
    "        if self.max_depth is not None and depth >= self.max_depth:\n",
    "            return Leaf(y)\n",
    "\n",
    "        n_samples, n_features = X.shape\n",
    "        if self.max_features != 'auto':\n",
    "            k = int(np.sqrt(n_features))\n",
    "            features = np.random.choice(n_features, k, replace=False)\n",
    "        else:\n",
    "            features = np.arange(n_features)\n",
    "        # As we have only binary features {0, 1} we split everything on feature == 1 and not\n",
    "        split_dim, max_gain = None, 0.0\n",
    "        for feature in features:\n",
    "            mask = X[:, feature] == 0\n",
    "\n",
    "            could_be_leaf = mask.sum() > self.min_samples_leaf and n_samples - mask.sum() > self.min_samples_leaf\n",
    "            if could_be_leaf:\n",
    "                info_gain = gain(y[mask], y[~mask], criterion=self.criterion)\n",
    "                if info_gain > max_gain:\n",
    "                    split_dim, max_gain = feature, info_gain\n",
    "        if split_dim is None:\n",
    "            return Leaf(y)\n",
    "\n",
    "        mask = X[:, split_dim] == 0\n",
    "        left = self.build_node(X[mask], y[mask], depth + 1)\n",
    "        right = self.build_node(X[~mask], y[~mask], depth + 1)\n",
    "        return Node(split_dim, left, right)\n",
    "\n",
    "    def predict(self, X, node=None):\n",
    "        result = np.empty(X.shape[0], dtype=np.object)\n",
    "\n",
    "        if node is None:\n",
    "            node = self.build_node(self.bagging_X, self.bagging_y)\n",
    "        if isinstance(node, Leaf):\n",
    "            result[:] = node.predicted\n",
    "            return result\n",
    "        else:\n",
    "            mask = X[:, node.split_dim] == 0\n",
    "            result[mask] = self.predict(X[mask], node.left)\n",
    "            result[~mask] = self.predict(X[~mask], node.right)\n",
    "            return result"
   ]
  },
  {
   "cell_type": "markdown",
   "metadata": {
    "id": "9oijgwLt4q6A"
   },
   "source": [
    "### Задание 2 (2 балла)\n",
    "Теперь реализуем сам Random Forest. Идея очень простая: строим `n` деревьев, а затем берем модальное предсказание.\n",
    "\n",
    "#### Параметры конструктора\n",
    "`n_estimators` - количество используемых для предсказания деревьев.\n",
    "\n",
    "Остальное - параметры деревьев.\n",
    "\n",
    "#### Методы\n",
    "`fit(X, y)` - строит `n_estimators` деревьев по выборке `X`.\n",
    "\n",
    "`predict(X)` - для каждого элемента выборки `X` возвращает самый частый класс, который предсказывают для него деревья."
   ]
  },
  {
   "cell_type": "code",
   "execution_count": 4,
   "metadata": {
    "id": "APIy88YW4q6A"
   },
   "outputs": [],
   "source": [
    "class RandomForestClassifier:\n",
    "    def __init__(self, criterion=\"gini\", max_depth=None,\n",
    "                 min_samples_leaf=1, max_features=\"auto\", n_estimators=10):\n",
    "\n",
    "        self.n_estimators = n_estimators\n",
    "        self.trees = None\n",
    "        self.params = {'criterion': criterion, 'max_depth': max_depth,\n",
    "                       'min_samples_leaf': min_samples_leaf, 'max_features': max_features}\n",
    "    def fit(self, X, y):\n",
    "        self.trees = [DecisionTree(X, y, **self.params) for _ in range(self.n_estimators)]\n",
    "\n",
    "    def predict(self, X):\n",
    "        self.n_features = X.shape[1]\n",
    "        predicted_trees = np.array([tree.predict(X) for tree in self.trees]).T\n",
    "        hard_votes = np.array([mode(votes)[0][0] for votes in predicted_trees])\n",
    "        return hard_votes"
   ]
  },
  {
   "cell_type": "markdown",
   "metadata": {
    "id": "i80pffMn4q6A"
   },
   "source": [
    "### Задание 3 (2 балла)\n",
    "Часто хочется понимать, насколько большую роль играет тот или иной признак для предсказания класса объекта. Есть различные способы посчитать его важность. Один из простых способов сделать это для Random Forest - посчитать out-of-bag ошибку предсказания `err_oob`, а затем перемешать значения признака `j` и посчитать ее (`err_oob_j`) еще раз. Оценкой важности признака `j` для одного дерева будет разность `err_oob_j - err_oob`, важность для всего леса считается как среднее значение важности по деревьям.\n",
    "\n",
    "Реализуйте функцию `feature_importance`, которая принимает на вход Random Forest и возвращает массив, в котором содержится важность для каждого признака."
   ]
  },
  {
   "cell_type": "code",
   "execution_count": 28,
   "metadata": {
    "id": "rEmVG1Fl4q6B"
   },
   "outputs": [],
   "source": [
    "def feature_importance(rfc):\n",
    "    # Внешний цикл деревья, внутренний фичи\n",
    "    n_trees, n_features = rfc.n_estimators, rfc.n_features\n",
    "\n",
    "    importance_matrix = np.empty((n_features, n_trees), dtype=np.float64)\n",
    "    estimators = rfc.trees\n",
    "\n",
    "    for tree_n in range(n_trees):\n",
    "        tree = estimators[tree_n]\n",
    "        X_out, y_out = tree.out_of_bag_X, tree.out_of_bag_y\n",
    "        err_oob = np.mean(y_out == tree.predict(X_out))\n",
    "        for feature in range(n_features):\n",
    "            shuffled_out = np.copy(X_out)\n",
    "            shuffled_out[:, feature] = np.random.permutation(X_out[:, feature])\n",
    "            err_oob_sh = np.mean(y_out == tree.predict(shuffled_out))\n",
    "            importance_matrix[feature, tree_n] = err_oob - err_oob_sh\n",
    "    return np.mean(importance_matrix, axis=1)\n",
    "\n",
    "\n",
    "def most_important_features(importance, names, k=20):\n",
    "    # Выводит названия k самых важных признаков\n",
    "    idicies = np.argsort(importance)[::-1][:k]\n",
    "    return np.array(names)[idicies]"
   ]
  },
  {
   "cell_type": "markdown",
   "metadata": {
    "id": "JooN_YKm4q6B"
   },
   "source": [
    "Наконец, пришло время протестировать наше дерево на простом синтетическом наборе данных. В результате точность должна быть примерно равна `1.0`, наибольшее значение важности должно быть у признака с индексом `4`, признаки с индексами `2` и `3`  должны быть одинаково важны, а остальные признаки - не важны совсем."
   ]
  },
  {
   "cell_type": "code",
   "execution_count": 29,
   "metadata": {
    "id": "8gqYMp994q6B"
   },
   "outputs": [
    {
     "name": "stdout",
     "output_type": "stream",
     "text": [
      "Accuracy: 1.0\n",
      "Importance: 0.0 0.0 0.19577480214045082 0.19500667432630914 0.441359672186637 0.0\n"
     ]
    }
   ],
   "source": [
    "def synthetic_dataset(size):\n",
    "    X = [(np.random.randint(0, 2), np.random.randint(0, 2), i % 6 == 3, \n",
    "          i % 6 == 0, i % 3 == 2, np.random.randint(0, 2)) for i in range(size)]\n",
    "    y = [i % 3 for i in range(size)]\n",
    "    return np.array(X), np.array(y)\n",
    "\n",
    "X, y = synthetic_dataset(1000)\n",
    "rfc = RandomForestClassifier(n_estimators=100)\n",
    "rfc.fit(X, y)\n",
    "print(\"Accuracy:\", np.mean(rfc.predict(X) == y))\n",
    "print(\"Importance:\", *feature_importance(rfc))"
   ]
  },
  {
   "cell_type": "markdown",
   "metadata": {
    "id": "vRtGOs164q6C"
   },
   "source": [
    "### Задание 4 (1 балл)\n",
    "Теперь поработаем с реальными данными.\n",
    "\n",
    "Выборка состоит из публичных анонимизированных данных пользователей социальной сети Вконтакте. Первые два столбца отражают возрастную группу (`zoomer`, `doomer` и `boomer`) и пол (`female`, `male`). Все остальные столбцы являются бинарными признаками, каждый из них определяет, подписан ли пользователь на определенную группу/публичную страницу или нет.\\\n",
    "\\\n",
    "Необходимо обучить два классификатора, один из которых определяет возрастную группу, а второй - пол.\\\n",
    "\\\n",
    "Эксперименты с множеством используемых признаков и подбор гиперпараметров приветствуются. Лес должен строиться за какое-то разумное время."
   ]
  },
  {
   "cell_type": "code",
   "execution_count": 30,
   "metadata": {
    "id": "HruobK-q4q6C"
   },
   "outputs": [],
   "source": [
    "def read_dataset(path):\n",
    "    dataframe = pandas.read_csv(path, header=0)\n",
    "    dataset = dataframe.values.tolist()\n",
    "    random.shuffle(dataset)\n",
    "    y_age = [row[0] for row in dataset]\n",
    "    y_sex = [row[1] for row in dataset]\n",
    "    X = [row[2:] for row in dataset]\n",
    "    \n",
    "    return np.array(X), np.array(y_age), np.array(y_sex), list(dataframe.columns)[2:]"
   ]
  },
  {
   "cell_type": "code",
   "execution_count": 31,
   "metadata": {
    "id": "K0QXWr3b4q6C"
   },
   "outputs": [],
   "source": [
    "X, y_age, y_sex, features = read_dataset(\"vk.csv\")\n",
    "X_train, X_test, y_age_train, y_age_test, y_sex_train, y_sex_test = train_test_split(X, y_age, y_sex, train_size=0.9)"
   ]
  },
  {
   "cell_type": "code",
   "execution_count": 15,
   "metadata": {},
   "outputs": [
    {
     "data": {
      "text/plain": [
       "(7924, 149)"
      ]
     },
     "execution_count": 15,
     "metadata": {},
     "output_type": "execute_result"
    }
   ],
   "source": []
  },
  {
   "cell_type": "markdown",
   "metadata": {
    "id": "I0y8J97m4q6C"
   },
   "source": [
    "#### Возраст"
   ]
  },
  {
   "cell_type": "code",
   "execution_count": null,
   "metadata": {
    "id": "MLJykJZH4q6C"
   },
   "outputs": [
    {
     "name": "stdout",
     "output_type": "stream",
     "text": [
      "Accuracy: 0.6935687263556116\n",
      "Most important features:\n"
     ]
    }
   ],
   "source": [
    "rfc = RandomForestClassifier(n_estimators=10)\n",
    "rfc.fit(X_train, y_age_train)\n",
    "print(\"Accuracy:\", np.mean(rfc.predict(X_test) == y_age_test))\n",
    "print(\"Most important features:\")\n",
    "for i, name in enumerate(most_important_features(feature_importance(rfc), features, 20)):\n",
    "    print(str(i+1) + \".\", name)"
   ]
  },
  {
   "cell_type": "markdown",
   "metadata": {
    "id": "cgNpaAKH4q6D"
   },
   "source": [
    "#### Пол"
   ]
  },
  {
   "cell_type": "code",
   "execution_count": null,
   "metadata": {
    "id": "X-zne5-R4q6D"
   },
   "outputs": [],
   "source": [
    "rfc = RandomForestClassifier(n_estimators=10)\n",
    "rfc.fit(X_train, y_sex_train)\n",
    "print(\"Accuracy:\", np.mean(rfc.predict(X_test) == y_sex_test))\n",
    "print(\"Most important features:\")\n",
    "for i, name in enumerate(most_important_features(feature_importance(rfc), features, 20)):\n",
    "    print(str(i+1) + \".\", name)"
   ]
  },
  {
   "cell_type": "markdown",
   "metadata": {
    "id": "pxeTQylQ4q6D"
   },
   "source": [
    "### CatBoost\n",
    "В качестве аьтернативы попробуем CatBoost. \n",
    "\n",
    "Устаниовить его можно просто с помощью `pip install catboost`. Туториалы можно найти, например, [здесь](https://catboost.ai/docs/concepts/python-usages-examples.html#multiclassification) и [здесь](https://github.com/catboost/tutorials/blob/master/python_tutorial.ipynb). Главное - не забудьте использовать `loss_function='MultiClass'`.\\\n",
    "\\\n",
    "Сначала протестируйте CatBoost на синтетических данных. Выведите точность и важность признаков."
   ]
  },
  {
   "cell_type": "code",
   "execution_count": 22,
   "metadata": {
    "id": "DOqVkEnd4q6D"
   },
   "outputs": [
    {
     "name": "stdout",
     "output_type": "stream",
     "text": [
      "Accuracy: 0.333334\n",
      "Importance: [6.24174305e-03 3.89404478e-03 2.78607492e+01 2.78444024e+01\n",
      " 4.42779146e+01 6.79805441e-03]\n"
     ]
    }
   ],
   "source": [
    "X, y = synthetic_dataset(1000)\n",
    "cb_cl = CatBoostClassifier(loss_function=\"MultiClass\", verbose=False)\n",
    "cb_cl.fit(X, y)\n",
    "y_pred = cb_cl.predict(X)\n",
    "print(\"Accuracy:\", np.mean(y_pred == y))\n",
    "print(\"Importance:\", cb_cl.feature_importances_)"
   ]
  },
  {
   "cell_type": "markdown",
   "metadata": {
    "id": "tcLRsSNG4q6E"
   },
   "source": [
    "### Задание 5 (3 балла)\n",
    "Попробуем применить один из используемых на практике алгоритмов. В этом нам поможет CatBoost. Также, как и реализованный ними RandomForest, применим его для определения пола и возраста пользователей сети Вконтакте, выведите названия наиболее важных признаков так же, как в задании 3.\\\n",
    "\\\n",
    "Эксперименты с множеством используемых признаков и подбор гиперпараметров приветствуются."
   ]
  },
  {
   "cell_type": "code",
   "execution_count": 23,
   "metadata": {
    "id": "hJGrQcO-4q6E"
   },
   "outputs": [],
   "source": [
    "X, y_age, y_sex, features = read_dataset(\"vk.csv\")\n",
    "X_train, X_test, y_age_train, y_age_test, y_sex_train, y_sex_test = train_test_split(X, y_age, y_sex, train_size=0.9)\n",
    "X_train, X_eval, y_age_train, y_age_eval, y_sex_train, y_sex_eval = train_test_split(X_train, y_age_train, y_sex_train, train_size=0.8)"
   ]
  },
  {
   "cell_type": "markdown",
   "metadata": {
    "id": "XA5f_8eC4q6E"
   },
   "source": [
    "#### Возраст"
   ]
  },
  {
   "cell_type": "code",
   "execution_count": 25,
   "metadata": {
    "id": "qSeUpxPj4q6E"
   },
   "outputs": [
    {
     "name": "stdout",
     "output_type": "stream",
     "text": [
      "Accuracy: 0.7377049180327869\n",
      "Most important features:\n",
      "1. mudakoff\n",
      "2. 4ch\n",
      "3. ovsyanochan\n",
      "4. styd.pozor\n",
      "5. rhymes\n",
      "6. leprum\n",
      "7. dayvinchik\n",
      "8. xfilm\n",
      "9. rapnewrap\n",
      "10. fuck_humor\n"
     ]
    }
   ],
   "source": [
    "cb_clf = CatBoostClassifier(loss_function=\"MultiClass\", verbose=False)\n",
    "cb_clf.fit(X_train, y_age_train)\n",
    "y_pred = cb_clf.predict(X_test).flatten()\n",
    "print(\"Accuracy:\", np.mean(y_pred == y_age_test))\n",
    "print(\"Most important features:\")\n",
    "for i, name in enumerate(most_important_features(cb_clf.feature_importances_, features, 10)):\n",
    "    print(str(i+1) + \".\", name)"
   ]
  },
  {
   "cell_type": "markdown",
   "metadata": {
    "id": "KfYSptm74q6E"
   },
   "source": [
    "#### Пол"
   ]
  },
  {
   "cell_type": "code",
   "execution_count": 26,
   "metadata": {
    "id": "4rKa-f6F4q6E"
   },
   "outputs": [
    {
     "name": "stdout",
     "output_type": "stream",
     "text": [
      "Accuracy: 0.8751576292559899\n",
      "Most important features:\n",
      "1. 40kg\n",
      "2. mudakoff\n",
      "3. girlmeme\n",
      "4. modnailru\n",
      "5. 9o_6o_9o\n",
      "6. i_d_t\n",
      "7. 4ch\n",
      "8. femalemem\n",
      "9. zerofat\n",
      "10. team\n"
     ]
    }
   ],
   "source": [
    "cb_clf = CatBoostClassifier(loss_function=\"MultiClass\", verbose=False)\n",
    "cb_clf.fit(X_train, y_sex_train)\n",
    "y_pred = cb_clf.predict(X_test).flatten()\n",
    "\n",
    "print(\"Accuracy:\", np.mean(y_pred == y_sex_test))\n",
    "print(\"Most important features:\")\n",
    "for i, name in enumerate(most_important_features(cb_clf.feature_importances_, features, 10)):\n",
    "    print(str(i+1) + \".\", name)"
   ]
  }
 ],
 "metadata": {
  "colab": {
   "collapsed_sections": [],
   "name": "hw09_task.ipynb",
   "provenance": []
  },
  "kernelspec": {
   "display_name": "Python 3",
   "language": "python",
   "name": "python3"
  },
  "language_info": {
   "codemirror_mode": {
    "name": "ipython",
    "version": 3
   },
   "file_extension": ".py",
   "mimetype": "text/x-python",
   "name": "python",
   "nbconvert_exporter": "python",
   "pygments_lexer": "ipython3",
   "version": "3.8.8"
  }
 },
 "nbformat": 4,
 "nbformat_minor": 1
}