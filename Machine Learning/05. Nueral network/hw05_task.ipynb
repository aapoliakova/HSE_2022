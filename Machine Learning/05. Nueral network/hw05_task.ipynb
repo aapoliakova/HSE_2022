{
  "nbformat": 4,
  "nbformat_minor": 0,
  "metadata": {
    "colab": {
      "name": "hw05_task.ipynb",
      "provenance": [],
      "collapsed_sections": []
    },
    "kernelspec": {
      "display_name": "Python 3",
      "language": "python",
      "name": "python3"
    },
    "language_info": {
      "codemirror_mode": {
        "name": "ipython",
        "version": 3
      },
      "file_extension": ".py",
      "mimetype": "text/x-python",
      "name": "python",
      "nbconvert_exporter": "python",
      "pygments_lexer": "ipython3",
      "version": "3.7.3"
    }
  },
  "cells": [
    {
      "cell_type": "markdown",
      "metadata": {
        "id": "9Qp0H_zUQuu_"
      },
      "source": [
        "# Нейронные сети\n",
        "__Суммарное количество баллов: 10__\n",
        "\n",
        "__Решение отправлять на `ml.course.practice@gmail.com`__\n",
        "\n",
        "__Тема письма: `[HSE][ML][MS][HW05] <ФИ>`, где вместо `<ФИ>` указаны фамилия и имя__\n",
        "\n",
        "Для начала вам предстоит реализовать свой собственный backpropagation и протестировать его на реальных данных, а затем научиться обучать нейронные сети при помощи библиотеки `PyTorch` и использовать это умение для классификации классического набора данных CIFAR10."
      ]
    },
    {
      "cell_type": "code",
      "metadata": {
        "id": "22ezVRf3QuvA"
      },
      "source": [
        "import numpy as np\n",
        "import copy\n",
        "from sklearn.datasets import make_blobs, make_moons\n",
        "from typing import List, NoReturn"
      ],
      "execution_count": 1,
      "outputs": []
    },
    {
      "cell_type": "markdown",
      "source": [
        "# Новый раздел"
      ],
      "metadata": {
        "id": "csaO4xGxuGAE"
      }
    },
    {
      "cell_type": "markdown",
      "metadata": {
        "id": "4qfDPH_LQuvF"
      },
      "source": [
        "### Задание 1 (3 балла)\n",
        "Нейронные сети состоят из слоев, поэтому для начала понадобится реализовать их. Пока нам понадобятся только три:\n",
        "\n",
        "`Linear` - полносвязный слой, в котором `y = Wx + b`, где `y` - выход, `x` - вход, `W` - матрица весов, а `b` - смещение. \n",
        "\n",
        "`ReLU` - слой, соответствующий функции активации `y = max(0, x)`.\n",
        "\n",
        "`Softmax` - слой, соответствующий функции активации [softmax](https://ru.wikipedia.org/wiki/Softmax)\n",
        "\n",
        "\n",
        "#### Методы\n",
        "`forward(X)` - возвращает предсказанные для `X`. `X` может быть как вектором, так и батчем\n",
        "\n",
        "`backward(d)` - считает градиент при помощи обратного распространения ошибки. Возвращает новое значение `d`\n",
        "\n",
        "`update(alpha)` - обновляет веса (если необходимо) с заданой скоростью обучения"
      ]
    },
    {
      "cell_type": "code",
      "metadata": {
        "id": "RWFLlHqaYbgC"
      },
      "source": [
        "class Module:\n",
        "    \"\"\"\n",
        "    Абстрактный класс. Его менять не нужно.\n",
        "    \"\"\"\n",
        "    def forward(self, x):\n",
        "        raise NotImplementedError()\n",
        "    \n",
        "    def backward(self, d):\n",
        "        raise NotImplementedError()\n",
        "        \n",
        "    def update(self, alpha):\n",
        "        pass"
      ],
      "execution_count": 2,
      "outputs": []
    },
    {
      "cell_type": "code",
      "metadata": {
        "id": "aYS2gE4PYepZ"
      },
      "source": [
        "class Linear(Module):\n",
        "    \"\"\"\n",
        "    Линейный полносвязный слой.\n",
        "    \"\"\"\n",
        "\n",
        "    def __init__(self, n_in: int, n_out: int):\n",
        "        \"\"\"\n",
        "        Parameters\n",
        "        ----------\n",
        "        in_features : int\n",
        "            Размер входа.\n",
        "        out_features : int\n",
        "            Размер выхода.\n",
        "\n",
        "        Notes\n",
        "        -----\n",
        "        W и b инициализируются случайно.\n",
        "        \"\"\"\n",
        "        stdv = 1. / np.sqrt(n_in)\n",
        "        self.W = np.random.uniform(-stdv, stdv, size=(n_out, n_in))\n",
        "        self.b = np.random.uniform(-stdv, stdv, size=n_out)\n",
        "\n",
        "    def forward(self, x: np.ndarray) -> np.ndarray:\n",
        "        \"\"\"\n",
        "        Возвращает y = Wx + b.\n",
        "\n",
        "        Parameters\n",
        "        ----------\n",
        "        x : np.ndarray\n",
        "            Входной вектор или батч.\n",
        "            То есть, либо x вектор с in_features элементов,\n",
        "            либо матрица размерности (batch_size, in_features).\n",
        "\n",
        "        Return\n",
        "        ------\n",
        "        y : np.ndarray\n",
        "            Выход после слоя.\n",
        "            Либо вектор с out_features элементами,\n",
        "            либо матрица размерности (batch_size, out_features)\n",
        "\n",
        "        \"\"\"\n",
        "        self.a = x\n",
        "        return self.a @ self.W.T + self.b  # aW.T + b\n",
        "\n",
        "    def backward(self, grad: np.ndarray) -> np.ndarray:\n",
        "        \"\"\"\n",
        "        Cчитает градиент при помощи обратного распространения ошибки.\n",
        "\n",
        "        Parameters\n",
        "        ----------\n",
        "        d : np.ndarray\n",
        "            Градиент.\n",
        "        Return\n",
        "        ------\n",
        "        np.ndarray\n",
        "            Новое значение градиента.\n",
        "        \"\"\"\n",
        "        self.dW = np.sum(self.a[:, None, :] * grad[:, :, None], axis=0)  # Eq4\n",
        "        self.db = np.sum(grad, axis=0)  # Eq3\n",
        "        # print(f\"Gradient shape is {self.dW.shape} and wights shape : {self.W.shape}\")\n",
        "        return grad @ self.W  # Eq2\n",
        "\n",
        "    def update(self, alpha: float = 0.0001) -> NoReturn:\n",
        "        \"\"\"\n",
        "        Обновляет W и b с заданной скоростью обучения.\n",
        "\n",
        "        Parameters\n",
        "        ----------\n",
        "        alpha : float\n",
        "            Скорость обучения.\n",
        "        \"\"\"\n",
        "        self.W -= alpha * self.dW\n",
        "        self.b -= alpha * self.db\n",
        "        # print(f\"Wights updated is {self.W.shape}\")"
      ],
      "execution_count": 3,
      "outputs": []
    },
    {
      "cell_type": "code",
      "metadata": {
        "id": "94hkbnD1QuvG"
      },
      "source": [
        "class ReLU(Module):\n",
        "    def __init__(self):\n",
        "        \"\"\"\n",
        "        Слой, соответствующий функции активации ReLU.\n",
        "        \"\"\"\n",
        "        pass\n",
        "\n",
        "    def forward(self, z: np.ndarray) -> np.ndarray:\n",
        "        \"\"\"\n",
        "        Возвращает y = max(0, x).\n",
        "\n",
        "        Parameters\n",
        "        ----------\n",
        "        z : np.ndarray\n",
        "            Входной вектор или батч.\n",
        "\n",
        "        Return\n",
        "        ------\n",
        "        y : np.ndarray\n",
        "            Выход после слоя (той же размерности, что и вход).\n",
        "\n",
        "        \"\"\"\n",
        "        self.z = z\n",
        "        return np.maximum(0, z)\n",
        "\n",
        "    def backward(self, d) -> np.ndarray:\n",
        "        \"\"\"\n",
        "        Cчитает градиент при помощи обратного распространения ошибки.\n",
        "\n",
        "        Parameters\n",
        "        ----------\n",
        "        d : np.ndarray\n",
        "            Градиент.\n",
        "        Return\n",
        "        ------\n",
        "        np.ndarray\n",
        "            Новое значение градиента.\n",
        "        \"\"\"\n",
        "        grad = self.z > 0\n",
        "        return d * grad\n",
        "        "
      ],
      "execution_count": 4,
      "outputs": []
    },
    {
      "cell_type": "code",
      "execution_count": 5,
      "outputs": [],
      "source": [
        "class SoftMax(Module):\n",
        "    def __init__(self):\n",
        "        \"\"\"\n",
        "        Слой, соответствующий функции активации Softmax.\n",
        "        \"\"\"\n",
        "        pass\n",
        "\n",
        "    def forward(self, X: np.ndarray):\n",
        "        \"\"\"\n",
        "        Возвращает y = Softmax(x).\n",
        "\n",
        "        Parameters\n",
        "        ----------\n",
        "        X : np.ndarray\n",
        "            Входной вектор или батч.\n",
        "\n",
        "        Return\n",
        "        ------\n",
        "        y : np.ndarray\n",
        "            Выход после слоя (той же размерности, что и вход).\n",
        "\n",
        "        \"\"\"\n",
        "        self.n_samples, _ = X.shape\n",
        "        scores = np.subtract(X, X.max(axis=1, keepdims=True))\n",
        "        self.activation = np.exp(scores) / np.sum(np.exp(scores), axis=1, keepdims=True)\n",
        "        return self.activation\n",
        "\n",
        "    def compute_loss(self, y: np.ndarray):\n",
        "        \"\"\"\n",
        "        Cчитает loss\n",
        "\n",
        "        Parameters\n",
        "        ----------\n",
        "        y : np.ndarray\n",
        "            Метки классов\n",
        "        Return\n",
        "        ------\n",
        "        float\n",
        "            Значение функции потерь\n",
        "        \"\"\"\n",
        "        self.mask = np.arange(self.n_samples), y\n",
        "        self.correct_log_prob = self.activation[mask]\n",
        "        self.loss = np.sum(-np.log(self.correct_log_prob)) / self.n_samples\n",
        "        return self.loss\n",
        "\n",
        "    def backward(self, y: np.ndarray):\n",
        "        \"\"\"\n",
        "        Cчитает градиент при помощи обратного распространения ошибки.\n",
        "\n",
        "        Parameters\n",
        "        ----------\n",
        "        y : np.ndarray\n",
        "            True labels.\n",
        "        Return\n",
        "        ------\n",
        "        np.ndarray\n",
        "            Новое значение градиента.\n",
        "        \"\"\"\n",
        "        self.mask = np.arange(self.n_samples), y\n",
        "        self.grad = self.activation\n",
        "        self.grad[self.mask] -= 1\n",
        "        self.grad /= self.n_samples\n",
        "        return self.grad / self.n_samples  # dCost /da * da /dz"
      ],
      "metadata": {
        "pycharm": {
          "name": "#%%\n"
        },
        "id": "ukI6AMmds-QM"
      }
    },
    {
      "cell_type": "markdown",
      "metadata": {
        "id": "Rb_ip_h8QuvJ"
      },
      "source": [
        "### Задание 2 (2 балла)\n",
        "Теперь сделаем саму нейронную сеть.\n",
        "\n",
        "#### Методы\n",
        "`fit(X, y)` - обучает нейронную сеть заданное число эпох. В каждой эпохе необходимо использовать [cross-entropy loss](https://ml-cheatsheet.readthedocs.io/en/latest/loss_functions.html#cross-entropy) для обучения, а так же производить обновления не по одному элементу, а используя батчи.\n",
        "\n",
        "`predict_proba(X)` - предсказывает вероятности классов для элементов `X`\n",
        "\n",
        "#### Параметры конструктора\n",
        "`modules` - список, состоящий из ранее реализованных модулей и описывающий слои нейронной сети. В конец необходимо добавить `Softmax`\n",
        "\n",
        "`epochs` - количество эпох обучения\n",
        "\n",
        "`alpha` - скорость обучения"
      ]
    },
    {
      "cell_type": "code",
      "execution_count": null,
      "outputs": [],
      "source": [
        "def generate_batch(X: np.ndarray, y: np.ndarray, batch_size: int):\n",
        "    \"\"\"\n",
        "    Parameters\n",
        "    ----------\n",
        "    X : np.ndarray\n",
        "        Данные для обучения.\n",
        "    y : np.ndarray\n",
        "        Вектор меток классов для данных.\n",
        "    batch_size : int\n",
        "        Размер батча.\n",
        "            Return\n",
        "    ------\n",
        "    np.ndarray\n",
        "         батч\n",
        "    \"\"\"\n",
        "    n_samples, _ = X.shape\n",
        "    indices = np.arange(n_samples)\n",
        "    np.random.shuffle(indices)\n",
        "    for start in range(0, n_samples, batch_size):\n",
        "        end = min(start + batch_size, n_samples)\n",
        "        batch_idx = indices[start:end]\n",
        "        yield X[batch_idx], y[batch_idx]"
      ],
      "metadata": {
        "pycharm": {
          "name": "#%%\n"
        },
        "id": "VkHq8JZBs-QN"
      }
    },
    {
      "cell_type": "code",
      "metadata": {
        "id": "Q_JFCizKQuvK"
      },
      "source": [
        "class MLPClassifier:\n",
        "    def __init__(self, layers: List[Module], epochs: int = 40, alpha: float = 0.01):\n",
        "        \"\"\"\n",
        "        Parameters\n",
        "        ----------\n",
        "        modules : list[Module]\n",
        "            Cписок, состоящий из ранее реализованных модулей и\n",
        "            описывающий слои нейронной сети.\n",
        "            В конец необходимо добавить Softmax.\n",
        "        epochs : int\n",
        "            Количество эпох обучения\n",
        "        alpha : float\n",
        "            Cкорость обучения.\n",
        "        \"\"\"\n",
        "        self.layers = layers\n",
        "        self.alpha = alpha\n",
        "\n",
        "    def fit(self, X: np.ndarray, y: np.ndarray, batch_size: int = 32) -> NoReturn:\n",
        "        \"\"\"\n",
        "        Обучает нейронную сеть заданное число эпох.\n",
        "        В каждой эпохе необходимо использовать cross-entropy loss для обучения,\n",
        "        а так же производить обновления не по одному элементу, а используя батчи.\n",
        "\n",
        "        Parameters\n",
        "        ----------\n",
        "        X : np.ndarray\n",
        "            Данные для обучения.\n",
        "        y : np.ndarray\n",
        "            Вектор меток классов для данных.\n",
        "        batch_size : int\n",
        "            Размер батча.\n",
        "        \"\"\"\n",
        "        self.layers.append(SoftMax())\n",
        "        for epoch in range(40):\n",
        "            for x_batch, y_batch in generate_batch(X, y, batch_size):\n",
        "                for layer in self.layers:\n",
        "                    x_batch = layer.forward(x_batch)\n",
        "\n",
        "                output_error = y_batch\n",
        "                for layer in reversed(self.layers):\n",
        "                    output_error = layer.backward(output_error)\n",
        "\n",
        "                for layer in self.layers:\n",
        "                    layer.update(self.alpha)\n",
        "        return self\n",
        "                \n",
        "\n",
        "    def predict_proba(self, X: np.ndarray):\n",
        "        \"\"\"\n",
        "        Предсказывает вероятности классов для элементов X.\n",
        "\n",
        "        Parameters\n",
        "        ----------\n",
        "        X : np.ndarray\n",
        "            Данные для предсказания.\n",
        "\n",
        "        Return\n",
        "        ------\n",
        "        np.ndarray\n",
        "            Предсказанные вероятности классов для всех элементов X.\n",
        "            Размерность (X.shape[0], n_classes)\n",
        "\n",
        "        \"\"\"\n",
        "        for layer in self.layers:\n",
        "            X = layer.forward(X)\n",
        "        return X\n",
        "\n",
        "    def predict(self, X: np.ndarray):\n",
        "        \"\"\"\n",
        "        Предсказывает метки классов для элементов X.\n",
        "\n",
        "        Parameters\n",
        "        ----------\n",
        "        X : np.ndarray\n",
        "            Данные для предсказания.\n",
        "\n",
        "        Return\n",
        "        ------\n",
        "        np.ndarray\n",
        "            Вектор предсказанных классов\n",
        "\n",
        "        \"\"\"\n",
        "        p = self.predict_proba(X)\n",
        "        return np.argmax(p, axis=1)\n",
        "\n",
        "\n",
        "def generate_batch(X: np.ndarray, y: np.ndarray, batch_size: int):\n",
        "    \"\"\"\n",
        "    Обучает нейронную сеть заданное число эпох.\n",
        "    В каждой эпохе необходимо использовать cross-entropy loss для обучения,\n",
        "    а так же производить обновления не по одному элементу, а используя батчи.\n",
        "\n",
        "    Parameters\n",
        "    ----------\n",
        "    X : np.ndarray\n",
        "        Данные для обучения.\n",
        "    y : np.ndarray\n",
        "        Вектор меток классов для данных.\n",
        "    batch_size : int\n",
        "        Размер батча.\n",
        "            Return\n",
        "    ------\n",
        "    np.ndarray\n",
        "         батч\n",
        "    \"\"\"\n",
        "    n_samples, _ = X.shape\n",
        "    indices = np.arange(n_samples)\n",
        "    np.random.shuffle(indices)\n",
        "    for start in range(0, n_samples, batch_size):\n",
        "        end = min(start + batch_size, n_samples)\n",
        "        batch_idx = indices[start:end]\n",
        "        yield X[batch_idx], y[batch_idx]"
      ],
      "execution_count": 13,
      "outputs": []
    },
    {
      "cell_type": "code",
      "execution_count": 14,
      "outputs": [
        {
          "output_type": "execute_result",
          "data": {
            "text/plain": [
              "<__main__.MLPClassifier at 0x7feb2aae40d0>"
            ]
          },
          "metadata": {},
          "execution_count": 14
        }
      ],
      "source": [
        "p = MLPClassifier([\n",
        "    Linear(4, 64),\n",
        "    ReLU(),\n",
        "    Linear(64, 64),\n",
        "    ReLU(),\n",
        "    Linear(64, 2)\n",
        "])\n",
        "\n",
        "X = np.random.randn(50, 4)\n",
        "y = np.array([(0 if x[0] > x[2]**2 or x[3]**3 > 0.5 else 1) for x in X])\n",
        "p.fit(X, y)"
      ],
      "metadata": {
        "pycharm": {
          "name": "#%%\n"
        },
        "colab": {
          "base_uri": "https://localhost:8080/"
        },
        "id": "LyIHljzps-QP",
        "outputId": "c1df80ff-d6c2-403f-e666-a23df0260504"
      }
    },
    {
      "cell_type": "markdown",
      "metadata": {
        "id": "3C1EIsDqQuvQ"
      },
      "source": [
        "### Задание 3 (2 балла)\n",
        "Протестируем наше решение на синтетических данных. Необходимо подобрать гиперпараметры, при которых качество полученных классификаторов будет достаточным.\n",
        "\n",
        "#### Оценка\n",
        "Accuracy на первом датасете больше 0.85 - +1 балл\n",
        "\n",
        "Accuracy на втором датасете больше 0.85 - +1 балл"
      ]
    },
    {
      "cell_type": "code",
      "metadata": {
        "id": "d5UAgXTcQuvQ",
        "colab": {
          "base_uri": "https://localhost:8080/"
        },
        "outputId": "839e15ce-5835-4d46-b77c-5eb2e6aceaa1"
      },
      "source": [
        "X, y = make_moons(400, noise=0.075)\n",
        "X_test, y_test = make_moons(400, noise=0.075)\n",
        "\n",
        "best_acc = 0\n",
        "for _ in range(25):\n",
        "    p = MLPClassifier([Linear(2, 64), ReLU(), Linear(64, 2)], alpha=0.9)\n",
        "    p.fit(X, y, batch_size=50)\n",
        "    best_acc = max(np.mean(p.predict(X_test) == y_test), best_acc)\n",
        "print(\"Accuracy\", best_acc)"
      ],
      "execution_count": 15,
      "outputs": [
        {
          "output_type": "stream",
          "name": "stdout",
          "text": [
            "Accuracy 0.8775\n"
          ]
        }
      ]
    },
    {
      "cell_type": "code",
      "metadata": {
        "id": "MMDJM4qFQuvT",
        "colab": {
          "base_uri": "https://localhost:8080/"
        },
        "outputId": "f7033100-e9d1-442c-d1e7-e4a784b6c8f0"
      },
      "source": [
        "X, y = make_blobs(400, 2, centers=[[0, 0], [2.5, 2.5], [-2.5, 3]])\n",
        "X_test, y_test = make_blobs(400, 2, centers=[[0, 0], [2.5, 2.5], [-2.5, 3]])\n",
        "\n",
        "best_acc = 0\n",
        "\n",
        "for _ in range(25):\n",
        "    p = MLPClassifier([Linear(2, 4), ReLU(), Linear(4, 3)], alpha=0.9)\n",
        "    p.fit(X, y, batch_size=100)\n",
        "    best_acc = max(np.mean(p.predict(X_test) == y_test), best_acc)\n",
        "print(\"Accuracy\", best_acc)"
      ],
      "execution_count": 16,
      "outputs": [
        {
          "output_type": "stream",
          "name": "stdout",
          "text": [
            "Accuracy 0.89\n"
          ]
        }
      ]
    },
    {
      "cell_type": "markdown",
      "metadata": {
        "id": "nPbVTFnMQuvW"
      },
      "source": [
        "## PyTorch\n",
        "\n",
        "Для выполнения следующего задания понадобится PyTorch. [Инструкция по установке](https://pytorch.org/get-started/locally/)\n",
        "\n",
        "Если у вас нет GPU, то можно использовать [Google Colab](https://colab.research.google.com/)"
      ]
    },
    {
      "cell_type": "code",
      "metadata": {
        "id": "tV0mJLu-QuvX"
      },
      "source": [
        "from torchvision import datasets, transforms\n",
        "from torch.utils.data import DataLoader\n",
        "import torch\n",
        "from tqdm import tqdm\n",
        "from torch import nn\n",
        "import torch.nn.functional as F\n",
        "import matplotlib.pyplot as plt"
      ],
      "execution_count": 18,
      "outputs": []
    },
    {
      "cell_type": "code",
      "metadata": {
        "id": "VUC_QqpAQuva",
        "colab": {
          "base_uri": "https://localhost:8080/"
        },
        "outputId": "5d249e27-9d6a-4d72-ef39-17302fe54516"
      },
      "source": [
        "device = torch.device(\"cuda\" if torch.cuda.is_available() else \"cpu\")\n",
        "\n",
        "t = transforms.ToTensor()\n",
        "\n",
        "cifar_train = datasets.CIFAR10(\"datasets/cifar10\", download=True, train=True, transform=t)\n",
        "train_loader = DataLoader(cifar_train, batch_size=1024, shuffle=True, pin_memory=torch.cuda.is_available())\n",
        "cifar_test = datasets.CIFAR10(\"datasets/cifar10\", download=True, train=False, transform=t)\n",
        "test_loader = DataLoader(cifar_test, batch_size=1024, shuffle=False, pin_memory=torch.cuda.is_available())"
      ],
      "execution_count": 20,
      "outputs": [
        {
          "output_type": "stream",
          "name": "stdout",
          "text": [
            "Files already downloaded and verified\n",
            "Files already downloaded and verified\n"
          ]
        }
      ]
    },
    {
      "cell_type": "markdown",
      "metadata": {
        "id": "rGmpjcFfQuvd"
      },
      "source": [
        "### Задание 4 (3 балла)\n",
        "А теперь поработам с настоящими нейронными сетями и настоящими данными. Необходимо реализовать сверточную нейронную сеть, которая будет классифицировать изображения из датасета CIFAR10. Имплементируйте класс `Model` и функцию `calculate_loss`. \n",
        "\n",
        "Обратите внимание, что `Model` должна считать в конце `softmax`, т.к. мы решаем задачу классификации. Соответствеено, функция `calculate_loss` считает cross-entropy.\n",
        "\n",
        "Для успешного выполнения задания необходимо, чтобы `accuracy`, `mean precision` и `mean recall` были больше 0.5\n",
        "\n",
        "__Можно пользоваться всем содержимым библиотеки PyTorch.__"
      ]
    },
    {
      "cell_type": "code",
      "metadata": {
        "id": "5sRmTKwKQuve"
      },
      "source": [
        "class Model(nn.Module):\n",
        "    def __init__(self):\n",
        "        super().__init__()\n",
        "        self._layers = nn.Sequential(\n",
        "            \n",
        "            nn.Conv2d(in_channels=3, out_channels=16, kernel_size=3, padding=1), \n",
        "            nn.LeakyReLU(0.1),\n",
        "\n",
        "            nn.Conv2d(in_channels = 16, out_channels = 32,\n",
        "                      kernel_size = 4, stride=2, padding=1), \n",
        "            nn.LeakyReLU(0.01),\n",
        "            nn.Dropout(p=0.25),\n",
        "\n",
        "            nn.Conv2d(32, 64, kernel_size=2, stride=2, padding=0), #\n",
        "            nn.LeakyReLU(0.3),\n",
        "\n",
        "            nn.Flatten(),\n",
        "            nn.Linear(4096, 256),\n",
        "            nn.LeakyReLU(0.1),\n",
        "            nn.Dropout(0.5),\n",
        "            nn.Linear(256, 10)\n",
        "        )\n",
        "\n",
        "    def forward(self, x: torch.Tensor) -> torch.Tensor:\n",
        "        return self._layers(x)\n",
        "\n",
        "def calculate_loss(X: torch.Tensor, y: torch.Tensor, model: Model):\n",
        "    \"\"\"\n",
        "    Cчитает cross-entropy.\n",
        "\n",
        "    Parameters\n",
        "    ----------\n",
        "    X : torch.Tensor\n",
        "        Данные для обучения.\n",
        "    y : torch.Tensor\n",
        "        Метки классов.\n",
        "    model : Model\n",
        "        Модель, которую будем обучать.\n",
        "\n",
        "    \"\"\"\n",
        "    logits = model(X)\n",
        "    return nn.functional.cross_entropy(logits, y)"
      ],
      "execution_count": 21,
      "outputs": []
    },
    {
      "cell_type": "code",
      "metadata": {
        "id": "k5G8iMCeQuvh"
      },
      "source": [
        "def train(model, epochs=30):\n",
        "    optimizer = torch.optim.AdamW(model.parameters())\n",
        "    train_losses = []\n",
        "    test_losses = []\n",
        "    for i in range(epochs):\n",
        "        #Train\n",
        "        loss_mean = 0\n",
        "        elements = 0\n",
        "        for X, y in iter(train_loader):\n",
        "            X = X.to(device)\n",
        "            y = y.to(device)\n",
        "            loss = calculate_loss(X, y, model)\n",
        "            optimizer.zero_grad()\n",
        "            loss.backward()\n",
        "            optimizer.step()\n",
        "            loss_mean += loss.item() * len(X)\n",
        "            elements += len(X)\n",
        "        train_losses.append(loss_mean / elements)\n",
        "        #Test\n",
        "        loss_mean = 0\n",
        "        elements = 0\n",
        "        for X, y in iter(test_loader):\n",
        "            X = X.to(device)\n",
        "            y = y.to(device)\n",
        "            loss = calculate_loss(X, y, model)\n",
        "            loss_mean += loss.item() * len(X)\n",
        "            elements += len(X)\n",
        "        test_losses.append(loss_mean / elements)\n",
        "        print(\"Epoch\", i, \"| Train loss\", train_losses[-1], \"| Test loss\", test_losses[-1])\n",
        "    return train_losses, test_losses"
      ],
      "execution_count": 22,
      "outputs": []
    },
    {
      "cell_type": "code",
      "metadata": {
        "id": "vmD9eWJOQuvl",
        "scrolled": true,
        "colab": {
          "base_uri": "https://localhost:8080/"
        },
        "outputId": "dfd81116-e93f-4b19-dd97-4fd1dee56ff4"
      },
      "source": [
        "model = Model().to(device)\n",
        "train_l, test_l = train(model)"
      ],
      "execution_count": 23,
      "outputs": [
        {
          "output_type": "stream",
          "name": "stdout",
          "text": [
            "Epoch 0 | Train loss 1.9715412448501586 | Test loss 1.7473465250015259\n",
            "Epoch 1 | Train loss 1.6460583024597168 | Test loss 1.5557739782333373\n",
            "Epoch 2 | Train loss 1.5075569159317017 | Test loss 1.4589485809326173\n",
            "Epoch 3 | Train loss 1.4284841779327393 | Test loss 1.4078540908813477\n",
            "Epoch 4 | Train loss 1.3563048844528198 | Test loss 1.337515311050415\n",
            "Epoch 5 | Train loss 1.2964259609222413 | Test loss 1.3040979232788086\n",
            "Epoch 6 | Train loss 1.2541438743591309 | Test loss 1.2679218170166016\n",
            "Epoch 7 | Train loss 1.2164266105270385 | Test loss 1.242326043319702\n",
            "Epoch 8 | Train loss 1.1688746140670776 | Test loss 1.2222015491485596\n",
            "Epoch 9 | Train loss 1.1344879261398315 | Test loss 1.1995129856109619\n",
            "Epoch 10 | Train loss 1.106653155555725 | Test loss 1.1815533853530884\n",
            "Epoch 11 | Train loss 1.075991270942688 | Test loss 1.162681351852417\n",
            "Epoch 12 | Train loss 1.044145131149292 | Test loss 1.1499019369125367\n",
            "Epoch 13 | Train loss 1.0203792533111573 | Test loss 1.143628347015381\n",
            "Epoch 14 | Train loss 0.9965501269721985 | Test loss 1.1319919761657715\n",
            "Epoch 15 | Train loss 0.9761295096206665 | Test loss 1.1512735246658325\n",
            "Epoch 16 | Train loss 0.968449062461853 | Test loss 1.123380809020996\n",
            "Epoch 17 | Train loss 0.9351627515792846 | Test loss 1.1244000881195069\n",
            "Epoch 18 | Train loss 0.9126126643180847 | Test loss 1.0968858032226563\n",
            "Epoch 19 | Train loss 0.8991427108192444 | Test loss 1.102813013458252\n",
            "Epoch 20 | Train loss 0.871723014831543 | Test loss 1.0973933364868165\n",
            "Epoch 21 | Train loss 0.8492402676582337 | Test loss 1.122030742073059\n",
            "Epoch 22 | Train loss 0.8323444728279114 | Test loss 1.1048583307266235\n",
            "Epoch 23 | Train loss 0.8227334166145325 | Test loss 1.104113444328308\n",
            "Epoch 24 | Train loss 0.8029631641769409 | Test loss 1.10795383644104\n",
            "Epoch 25 | Train loss 0.7855662907791138 | Test loss 1.0965541227340698\n",
            "Epoch 26 | Train loss 0.7732595666122436 | Test loss 1.0977553161621094\n",
            "Epoch 27 | Train loss 0.7533560287666321 | Test loss 1.1025470319747925\n",
            "Epoch 28 | Train loss 0.7401357778358459 | Test loss 1.0967841873168944\n",
            "Epoch 29 | Train loss 0.7276097905158997 | Test loss 1.1156503744125366\n"
          ]
        }
      ]
    },
    {
      "cell_type": "markdown",
      "metadata": {
        "id": "OJNAuHjNQuvn"
      },
      "source": [
        "Построим график функции потерь"
      ]
    },
    {
      "cell_type": "code",
      "metadata": {
        "id": "F6OEGqriQuvo",
        "colab": {
          "base_uri": "https://localhost:8080/",
          "height": 441
        },
        "outputId": "e03a80d5-08fb-47df-f966-d65b9dae1ff9"
      },
      "source": [
        "plt.figure(figsize=(12, 6))\n",
        "plt.plot(range(len(train_l)), train_l, label=\"train\")\n",
        "plt.plot(range(len(test_l)), test_l, label=\"test\")\n",
        "plt.xlabel(\"Epoch\")\n",
        "plt.ylabel(\"Loss\")\n",
        "plt.legend()\n",
        "plt.tight_layout()\n",
        "plt.show()"
      ],
      "execution_count": 24,
      "outputs": [
        {
          "output_type": "display_data",
          "data": {
            "image/png": "[encoded data removed]",
            "text/plain": [
              "<Figure size 864x432 with 1 Axes>"
            ]
          },
          "metadata": {
            "needs_background": "light"
          }
        }
      ]
    },
    {
      "cell_type": "markdown",
      "metadata": {
        "id": "miUxg0bDQuvs"
      },
      "source": [
        "И, наконец, посчитаем метрики"
      ]
    },
    {
      "cell_type": "code",
      "metadata": {
        "id": "UXSOJFI8Quvt",
        "colab": {
          "base_uri": "https://localhost:8080/"
        },
        "outputId": "0ce699af-c2d3-480a-a450-f84e5ffe9b04"
      },
      "source": [
        "true_positive = np.zeros(10)\n",
        "true_negative = np.zeros(10)\n",
        "false_positive = np.zeros(10)\n",
        "false_negative = np.zeros(10)\n",
        "accuracy = 0\n",
        "ctn = 0\n",
        "for X, y in iter(test_loader):\n",
        "    X = X.to(device)\n",
        "    y = y.to(device)\n",
        "    with torch.no_grad():\n",
        "        y_pred = model(X).max(dim=1)[1]\n",
        "    for i in range(10):\n",
        "        for pred, real in zip(y_pred, y):\n",
        "            if real == i:\n",
        "                if pred == real:\n",
        "                    true_positive[i] += 1\n",
        "                else:\n",
        "                    false_negative[i] += 1\n",
        "            else:\n",
        "                if pred == i:\n",
        "                    false_positive[i] += 1\n",
        "                else:\n",
        "                    true_negative[i] += 1\n",
        "            \n",
        "    accuracy += torch.sum(y_pred == y).item()\n",
        "    ctn += len(y)\n",
        "print(\"Overall accuracy\", accuracy / ctn)\n",
        "print(\"Precision\", true_positive / (true_positive + false_positive))\n",
        "print(\"Recall\", true_positive / (true_positive + false_negative))\n",
        "print(\"Mean Precision\", np.mean(true_positive / (true_positive + false_positive)))\n",
        "print(\"Mean Recall\", np.mean(true_positive / (true_positive + false_negative)))"
      ],
      "execution_count": 25,
      "outputs": [
        {
          "output_type": "stream",
          "name": "stdout",
          "text": [
            "Overall accuracy 0.6298\n",
            "Precision [0.6754386  0.75751295 0.49731183 0.46842105 0.56075697 0.52983539\n",
            " 0.65070922 0.71231423 0.77491961 0.69294606]\n",
            "Recall [0.693 0.731 0.555 0.445 0.563 0.515 0.734 0.671 0.723 0.668]\n",
            "Mean Precision 0.6320165910656159\n",
            "Mean Recall 0.6298\n"
          ]
        }
      ]
    },
    {
      "cell_type": "code",
      "metadata": {
        "id": "EKA-j4rIQuvv"
      },
      "source": [
        ""
      ],
      "execution_count": null,
      "outputs": []
    }
  ]
}