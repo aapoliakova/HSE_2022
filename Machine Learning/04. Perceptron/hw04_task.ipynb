{
 "nbformat": 4,
 "nbformat_minor": 0,
 "metadata": {
  "colab": {
   "name": "hw04_task.ipynb",
   "provenance": [],
   "collapsed_sections": []
  },
  "kernelspec": {
   "display_name": "Python 3",
   "language": "python",
   "name": "python3"
  },
  "language_info": {
   "codemirror_mode": {
    "name": "ipython",
    "version": 3
   },
   "file_extension": ".py",
   "mimetype": "text/x-python",
   "name": "python",
   "nbconvert_exporter": "python",
   "pygments_lexer": "ipython3",
   "version": "3.7.3"
  }
 },
 "cells": [
  {
   "cell_type": "markdown",
   "metadata": {
    "id": "AxvVXGIb7IlM"
   },
   "source": [
    "# Перцептрон для восприятия цифр\n",
    "__Суммарное количество баллов: 10__\n",
    "\n",
    "__Решение отправлять на `ml.course.practice@gmail.com`__\n",
    "\n",
    "__Тема письма: `[HSE][ML][HW04] <ФИ>`, где вместо `<ФИ>` указаны фамилия и имя__\n",
    "\n",
    "В этом задании вам предстоит реализовать классический перцептрон, немного улучшить его, и протестировать результат на классической задаче определния цифр по изображениям."
   ]
  },
  {
   "cell_type": "code",
   "metadata": {
    "id": "XXEjTwfn7IlO"
   },
   "source": [
    "import numpy as np\n",
    "from sklearn.datasets import make_blobs, make_moons\n",
    "from sklearn.model_selection import train_test_split\n",
    "import matplotlib.pyplot as plt\n",
    "from sklearn import datasets\n",
    "import copy\n",
    "from typing import NoReturn"
   ],
   "execution_count": 159,
   "outputs": []
  },
  {
   "cell_type": "code",
   "metadata": {
    "id": "xDIVYWhC7Ilk"
   },
   "source": [
    "def visualize(X, labels_true, labels_pred, w):\n",
    "    unique_labels = np.unique(labels_true)\n",
    "    unique_colors = dict([(l, c) for l, c in zip(unique_labels, [[0.8, 0., 0.], [0., 0., 0.8]])])\n",
    "    plt.figure(figsize=(9, 9))\n",
    "\n",
    "    if w[1] == 0:\n",
    "        plt.plot([X[:, 0].min(), X[:, 0].max()], w[0] / w[2])\n",
    "    elif w[2] == 0:\n",
    "        plt.plot(w[0] / w[1], [X[:, 1].min(), X[:, 1].max()])  \n",
    "    else:\n",
    "        mins, maxs = X.min(axis=0), X.max(axis=0)\n",
    "        pts = [[mins[0], -mins[0] * w[1] / w[2] - w[0] / w[2]],\n",
    "               [maxs[0], -maxs[0] * w[1] / w[2] - w[0] / w[2]],\n",
    "               [-mins[1] * w[2] / w[1] - w[0] / w[1], mins[1]],\n",
    "               [-maxs[1] * w[2] / w[1] - w[0] / w[1], maxs[1]]]\n",
    "        pts = [(x, y) for x, y in pts if mins[0] <= x <= maxs[0] and mins[1] <= y <= maxs[1]]\n",
    "        x, y = list(zip(*pts))\n",
    "        plt.plot(x, y, c=(0.75, 0.75, 0.75), linestyle=\"--\")\n",
    "    \n",
    "    colors_inner = [unique_colors[l] for l in labels_true]\n",
    "    colors_outer = [unique_colors[l] for l in labels_pred]\n",
    "    plt.scatter(X[:, 0], X[:, 1], c=colors_inner, edgecolors=colors_outer)\n",
    "    plt.show()"
   ],
   "execution_count": 160,
   "outputs": []
  },
  {
   "cell_type": "markdown",
   "metadata": {
    "id": "uPIPTf5o7IlV"
   },
   "source": [
    "### Задание 1 (3 балла)\n",
    "Для начала реализуем простой перцептрон.\n",
    "\n",
    "#### Методы\n",
    "`predict(X)` - возвращает предсказанные метки для элементов выборки `X`\n",
    "\n",
    "`fit(X, y)` - инициализирует веса перцептрона, а затем обновляет их в течении `iterations` итераций. \n",
    "\n",
    "#### Параметры конструктора\n",
    "`iterations` - количество итераций обучения перцептрона\n",
    "\n",
    "#### Поля\n",
    "`w` - веса перцептрона размерности `X.shape[1] + 1`. `w[0]` должен соответстовать константе, `w[1:]` - коэффициентам компонент элемента `X`."
   ]
  },
  {
   "cell_type": "code",
   "metadata": {
    "id": "F5gyJPlh7IlW"
   },
   "source": [
    "class Perceptron:\n",
    "    def __init__(self, iterations: int = 100):\n",
    "        \"\"\"\n",
    "        Parameters\n",
    "        ----------\n",
    "        iterations : int\n",
    "        Количество итераций обучения перцептрона.\n",
    "\n",
    "        Attributes\n",
    "        ----------\n",
    "        w : np.ndarray\n",
    "        Веса перцептрона размерности X.shape[1] + 1 (X --- данные для обучения), \n",
    "        w[0] должен соответстовать константе, \n",
    "        w[1:] - коэффициентам компонент элемента X.\n",
    "\n",
    "        Notes\n",
    "        -----\n",
    "        Вы можете добавлять свои поля в класс.\n",
    "        \n",
    "        \"\"\"\n",
    "\n",
    "        self.iterations = iterations\n",
    "        self.w = None\n",
    "    \n",
    "    def fit(self, X: np.ndarray, y: np.ndarray) -> NoReturn:\n",
    "        \"\"\"\n",
    "        Обучает простой перцептрон. \n",
    "        Для этого сначала инициализирует веса перцептрона,\n",
    "        а затем обновляет их в течении iterations итераций.\n",
    "        \n",
    "        Parameters\n",
    "        ----------\n",
    "        X : np.ndarray\n",
    "            Набор данных, на котором обучается перцептрон.\n",
    "        y: np.ndarray\n",
    "            Набор меток классов для данных.\n",
    "        \n",
    "        \"\"\"\n",
    "        self.w = np.zeros((X.shape[0], X.shape[1]+1 ))\n",
    "        h_x = self.w.T @ X\n",
    "        \n",
    "        raise NotImplementedError()\n",
    "            \n",
    "    def predict(self, X: np.ndarray) -> np.ndarray:\n",
    "        \"\"\"\n",
    "        Предсказывает метки классов.\n",
    "        \n",
    "        Parameters\n",
    "        ----------\n",
    "        X : np.ndarray\n",
    "            Набор данных, для которого необходимо вернуть метки классов.\n",
    "        \n",
    "        Return\n",
    "        ------\n",
    "        labels : np.ndarray\n",
    "            Вектор индексов классов \n",
    "            (по одной метке для каждого элемента из X).\n",
    "        \n",
    "        \"\"\"\n",
    "        raise NotImplementedError()"
   ],
   "execution_count": 161,
   "outputs": []
  },
  {
   "cell_type": "markdown",
   "metadata": {
    "id": "8ygPuIKV7Ila"
   },
   "source": [
    "Посмотрим на то, как наш перцептрон справляется с различными наборами данных"
   ]
  },
  {
   "cell_type": "code",
   "metadata": {
    "id": "DTKBv79Q7Ila"
   },
   "source": [
    "X, true_labels = make_blobs(400, 2, centers=[[0, 0], [2.5, 2.5]])\n",
    "c = Perceptron()\n",
    "c.fit(X, true_labels)\n",
    "visualize(X, true_labels, np.array(c.predict(X)), c.w)"
   ],
   "execution_count": null,
   "outputs": []
  },
  {
   "cell_type": "code",
   "metadata": {
    "id": "9X5UC1_p7Ild",
    "scrolled": false
   },
   "source": [
    "X, true_labels = make_moons(400, noise=0.075)\n",
    "c = Perceptron()\n",
    "c.fit(X, true_labels)\n",
    "visualize(X, true_labels, np.array(c.predict(X)), c.w)"
   ],
   "execution_count": null,
   "outputs": []
  },
  {
   "cell_type": "markdown",
   "metadata": {
    "id": "_STMz5jy7Ilg"
   },
   "source": [
    "### Задание 2 (2 балл)\n",
    "Проблема обычной реализации перцептрона в том, что закончить его обучение мы можем с неоптимальными весами, т.к. точность разбиения в зависимости от числа итераций не растет монотонно. Чтобы этого избежать, мы можем оставлять в конце веса той итерации, на которой мы лучше всего разбивали множество `X`.\n",
    "\n",
    "#### Методы\n",
    "`predict(X)` - возвращает предсказанные метки для элементов выборки `X`\n",
    "\n",
    "`fit(X, y)` - инициализирует веса перцептрона, а затем обновляет их в течении `iterations` итераций. В конце обучения оставляет лучшие веса. \n",
    "\n",
    "#### Параметры конструктора\n",
    "`iterations` - количество итераций обучения перцептрона\n",
    "\n",
    "#### Поля\n",
    "`w` - веса перцептрона размерности `X.shape[1] + 1`. `w[0]` должен соответстовать константе, `w[1:]` - коэффициентам компонент элемента `X`."
   ]
  },
  {
   "cell_type": "code",
   "metadata": {
    "id": "cXcZxnk-7Ilh"
   },
   "source": [
    "class PerceptronBest:\n",
    "\n",
    "    def __init__(self, iterations: int = 100):\n",
    "        \"\"\"\n",
    "        Parameters\n",
    "        ----------\n",
    "        iterations : int\n",
    "        Количество итераций обучения перцептрона.\n",
    "\n",
    "        Attributes\n",
    "        ----------\n",
    "        w : np.ndarray\n",
    "        Веса перцептрона размерности X.shape[1] + 1 (X --- данные для обучения), \n",
    "        w[0] должен соответстовать константе, \n",
    "        w[1:] - коэффициентам компонент элемента X.\n",
    "\n",
    "        Notes\n",
    "        -----\n",
    "        Вы можете добавлять свои поля в класс.\n",
    "        \n",
    "        \"\"\"\n",
    "\n",
    "        self.w = None\n",
    "    \n",
    "    def fit(self, X: np.ndarray, y: np.ndarray) -> NoReturn:\n",
    "        \"\"\"\n",
    "        Обучает перцептрон.\n",
    "\n",
    "        Для этого сначала инициализирует веса перцептрона, \n",
    "        а затем обновляет их в течении iterations итераций.\n",
    "\n",
    "        При этом в конце обучения оставляет веса, \n",
    "        при которых значение accuracy было наибольшим.\n",
    "        \n",
    "        Parameters\n",
    "        ----------\n",
    "        X : np.ndarray\n",
    "            Набор данных, на котором обучается перцептрон.\n",
    "        y: np.ndarray\n",
    "            Набор меток классов для данных.\n",
    "        \n",
    "        \"\"\"\n",
    "        raise NotImplementedError()\n",
    "            \n",
    "    def predict(self, X: np.ndarray) -> np.ndarray:\n",
    "        \"\"\"\n",
    "        Предсказывает метки классов.\n",
    "        \n",
    "        Parameters\n",
    "        ----------\n",
    "        X : np.ndarray\n",
    "            Набор данных, для которого необходимо вернуть метки классов.\n",
    "        \n",
    "        Return\n",
    "        ------\n",
    "        labels : np.ndarray\n",
    "            Вектор индексов классов \n",
    "            (по одной метке для каждого элемента из X).\n",
    "        \n",
    "        \"\"\"\n",
    "        raise NotImplementedError()"
   ],
   "execution_count": null,
   "outputs": []
  },
  {
   "cell_type": "markdown",
   "metadata": {
    "id": "QD2PFNgj7Ilo"
   },
   "source": [
    "Посмотрим на то, как наш перцептрон справляется с различными наборами данных"
   ]
  },
  {
   "cell_type": "code",
   "metadata": {
    "id": "T4PeoUrH7Ilp"
   },
   "source": [
    "X, true_labels = make_blobs(400, 2, centers=[[0, 0], [2.5, 2.5]])\n",
    "c = PerceptronBest()\n",
    "c.fit(X, true_labels)\n",
    "visualize(X, true_labels, np.array(c.predict(X)), c.w)"
   ],
   "execution_count": null,
   "outputs": []
  },
  {
   "cell_type": "code",
   "metadata": {
    "id": "eCfISdtE7Ils"
   },
   "source": [
    "X, true_labels = make_moons(400, noise=0.075)\n",
    "c = PerceptronBest()\n",
    "c.fit(X, true_labels)\n",
    "visualize(X, true_labels, np.array(c.predict(X)), c.w)"
   ],
   "execution_count": null,
   "outputs": []
  },
  {
   "cell_type": "markdown",
   "metadata": {
    "id": "7TaVXLD77Ilv"
   },
   "source": [
    "### Задание 3 (1 балл)\n",
    "Реализуйте метод `transform_images(images)`, который преобразует изображения в двумерные векторы. Значение компонент векторов придумайте сами и напишите в виде комментария к методу."
   ]
  },
  {
   "cell_type": "code",
   "metadata": {
    "id": "isIxsEyi7Ilv"
   },
   "source": [
    "def transform_images(images: np.ndarray) -> np.ndarray:\n",
    "    \"\"\"\n",
    "    Переводит каждое изображение в вектор из двух элементов.\n",
    "        \n",
    "    Parameters\n",
    "    ----------\n",
    "    images : np.ndarray\n",
    "        Трехмерная матрица с черное-белыми изображениями.\n",
    "        Её размерность: (n_images, image_height, image_width).\n",
    "\n",
    "    Return\n",
    "    ------\n",
    "    np.ndarray\n",
    "        Двумерная матрица с преобразованными изображениями.\n",
    "        Её размерность: (n_images, 2).\n",
    "    \"\"\"\n",
    "    return np.zeros((images.shape[0], 2))\n",
    "\n",
    "def get_digits(y0=1, y1=5):\n",
    "    data = datasets.load_digits()\n",
    "    images, labels = data.images, data.target\n",
    "    mask = np.logical_or(labels == y0, labels == y1)\n",
    "    labels = labels[mask]\n",
    "    images = images[mask]\n",
    "    images /= np.max(images)\n",
    "    X = transform_images(images)\n",
    "    return X, labels"
   ],
   "execution_count": null,
   "outputs": []
  },
  {
   "cell_type": "markdown",
   "metadata": {
    "id": "vHQjZvre7Ilz"
   },
   "source": [
    "### Задание 4 (4 балла)\n",
    "Теперь посмотрим на точность обычного перцептрона и перцептрона выбором лучшей итерации. Для тестирования будем использовать цифры 1 и 5. Необходимо использовать реализованное выше преобразование, т.е. только векторы из 2х признаков. \n",
    "\n",
    "Оценка за это задание выставляется следующим образом:\n",
    "1. 1 балл - что-то обучается, картинки рисуются\n",
    "2. 2 балла - точность хотя бы одного из классификаторов на тестовой выборке больше 80%\n",
    "3. 4 балла - точность хотя бы одного из классификаторов на тестовой выборке больше 90%\n",
    "\n",
    "__Обратите внимание, что перцептрон детерминирован, а выборка должна разбиваться без перемешивания__"
   ]
  },
  {
   "cell_type": "code",
   "metadata": {
    "id": "H3gVnqt7COxc"
   },
   "source": [
    "X, y = get_digits()\n",
    "\n",
    "X_train, X_test, y_train, y_test = train_test_split(X, y, train_size=0.8, shuffle=False)"
   ],
   "execution_count": null,
   "outputs": []
  },
  {
   "cell_type": "code",
   "metadata": {
    "id": "NfTNDhnE7Il3"
   },
   "source": [
    "c = Perceptron(iterations=100000)\n",
    "c.fit(X_train, y_train)\n",
    "visualize(X_train, y_train, np.array(c.predict(X_train)), c.w)\n",
    "print(\"Accuracy:\", np.mean(c.predict(X_test) == y_test))"
   ],
   "execution_count": null,
   "outputs": []
  },
  {
   "cell_type": "code",
   "metadata": {
    "id": "HOJ2AIv-7Il6"
   },
   "source": [
    "c = PerceptronBest(iterations=100000)\n",
    "c.fit(X_train, y_train)\n",
    "visualize(X_train, y_train, np.array(c.predict(X_train)), c.w)\n",
    "print(\"Accuracy:\", np.mean(c.predict(X_test) == y_test))"
   ],
   "execution_count": null,
   "outputs": []
  },
  {
   "cell_type": "markdown",
   "metadata": {
    "id": "-xQ6ZqIi7Il8"
   },
   "source": [
    "А теперь посчитаем среднюю точность по всем возможным парам цифр"
   ]
  },
  {
   "cell_type": "code",
   "metadata": {
    "id": "eAO1gFIK7Il9",
    "scrolled": true
   },
   "source": [
    "accs = []\n",
    "for y0, y1 in [(y0, y1) for y0 in range(9) for y1 in range(y0+1, 10)]:\n",
    "    X, y = get_digits(y0, y1)\n",
    "    X_train, X_test, y_train, y_test = train_test_split(X, y, train_size=0.8, shuffle=False)\n",
    "    c = Perceptron(iterations=20000)\n",
    "    c.fit(X_train, y_train)\n",
    "    accs.append(np.mean(c.predict(X_test) == y_test))\n",
    "print(\"Mean accuracy:\", np.mean(accs))"
   ],
   "execution_count": null,
   "outputs": []
  },
  {
   "cell_type": "code",
   "metadata": {
    "id": "-prBfvOh7Il_",
    "scrolled": true
   },
   "source": [
    "accs = []\n",
    "for y0, y1 in [(y0, y1) for y0 in range(9) for y1 in range(y0+1, 10)]:\n",
    "    X, y = get_digits(y0, y1)\n",
    "    X_train, X_test, y_train, y_test = train_test_split(X, y, train_size=0.8, shuffle=False)\n",
    "    c = PerceptronBest(iterations=20000)\n",
    "    c.fit(X_train, y_train)\n",
    "    accs.append(np.mean(c.predict(X_test) == y_test))\n",
    "print(\"Mean accuracy:\", np.mean(accs))"
   ],
   "execution_count": null,
   "outputs": []
  },
  {
   "cell_type": "code",
   "metadata": {
    "id": "j6i1G0jI7ImC"
   },
   "source": [
    ""
   ],
   "execution_count": null,
   "outputs": []
  }
 ]
}